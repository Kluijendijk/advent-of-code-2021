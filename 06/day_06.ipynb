{
 "cells": [
  {
   "cell_type": "code",
   "execution_count": 1,
   "id": "082d4cdc",
   "metadata": {},
   "outputs": [],
   "source": [
    "import numpy as np\n",
    "with open('input.txt') as f:\n",
    "    data = np.array([int(x) for x in f.read().split(',')])\n"
   ]
  },
  {
   "cell_type": "code",
   "execution_count": 2,
   "id": "04f24583",
   "metadata": {
    "scrolled": false
   },
   "outputs": [
    {
     "name": "stdout",
     "output_type": "stream",
     "text": [
      "[ 0 99 51 45 41 64  0]\n"
     ]
    }
   ],
   "source": [
    "freq = np.zeros(7, dtype=np.int64)\n",
    "for fish in range(data.size):\n",
    "    freq[data[fish]] += 1\n",
    "print(freq)"
   ]
  },
  {
   "cell_type": "code",
   "execution_count": 3,
   "id": "54263ffa",
   "metadata": {},
   "outputs": [
    {
     "name": "stdout",
     "output_type": "stream",
     "text": [
      "354564\n"
     ]
    }
   ],
   "source": [
    "freq1 = freq.copy()\n",
    "freqyoung = np.array([0, 0])\n",
    "n = 80\n",
    "#print(0, freq1, freqyoung)\n",
    "for i in range(n):\n",
    "    freq1 = np.roll(freq1,-1)\n",
    "    newbies = freq1[-1]\n",
    "    freq1[-1] += freqyoung[0]\n",
    "    freqyoung[0] = freqyoung[1]\n",
    "    freqyoung[1] = newbies\n",
    "    #print(i+1, freq1, freqyoung, np.sum(freq1) + np.sum(freqyoung))\n",
    "\n",
    "    \n",
    "print(np.sum(freq1)+np.sum(freqyoung))"
   ]
  },
  {
   "cell_type": "code",
   "execution_count": 4,
   "id": "24bc0b84",
   "metadata": {},
   "outputs": [
    {
     "name": "stdout",
     "output_type": "stream",
     "text": [
      "1609058859115\n"
     ]
    }
   ],
   "source": [
    "freq1 = freq.copy()\n",
    "freqyoung = np.array([0, 0], dtype=np.int64)\n",
    "n = 256\n",
    "#print(0, freq1, freqyoung)\n",
    "for i in range(n):\n",
    "    freq1 = np.roll(freq1,-1)\n",
    "    newbies = freq1[-1]\n",
    "    freq1[-1] += freqyoung[0]\n",
    "    freqyoung[0] = freqyoung[1]\n",
    "    freqyoung[1] = newbies\n",
    "    #print(i+1, freq1, freqyoung, np.sum(freq1) + np.sum(freqyoung))\n",
    "\n",
    "    \n",
    "print(np.sum(freq1)+np.sum(freqyoung))\n",
    " "
   ]
  },
  {
   "cell_type": "code",
   "execution_count": null,
   "id": "d29cf949",
   "metadata": {},
   "outputs": [],
   "source": []
  }
 ],
 "metadata": {
  "kernelspec": {
   "display_name": "Python 3",
   "language": "python",
   "name": "python3"
  },
  "language_info": {
   "codemirror_mode": {
    "name": "ipython",
    "version": 3
   },
   "file_extension": ".py",
   "mimetype": "text/x-python",
   "name": "python",
   "nbconvert_exporter": "python",
   "pygments_lexer": "ipython3",
   "version": "3.7.10"
  }
 },
 "nbformat": 4,
 "nbformat_minor": 5
}
