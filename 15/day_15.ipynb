{
 "cells": [
  {
   "cell_type": "code",
   "execution_count": 33,
   "id": "082d4cdc",
   "metadata": {
    "scrolled": true
   },
   "outputs": [
    {
     "data": {
      "text/plain": [
       "(100, 100)"
      ]
     },
     "execution_count": 33,
     "metadata": {},
     "output_type": "execute_result"
    }
   ],
   "source": [
    "import numpy as np\n",
    "import heapq\n",
    "with open('input.txt') as f:\n",
    "    data = np.array([list(x) for x in f.read().split('\\n')], dtype=np.int64)\n",
    "data.shape"
   ]
  },
  {
   "cell_type": "code",
   "execution_count": 56,
   "id": "54263ffa",
   "metadata": {
    "scrolled": false
   },
   "outputs": [
    {
     "name": "stdout",
     "output_type": "stream",
     "text": [
      "458\n",
      "2800\n"
     ]
    }
   ],
   "source": [
    "def dijkstra(graph, exp = 1):\n",
    "    start = (0,0)\n",
    "    heap = [(0, 0, 0)]\n",
    "    seen = {(0, 0)}\n",
    "    xbound = exp*data.shape[0] - 1\n",
    "    ybound = exp*data.shape[1] - 1\n",
    "    while heap:\n",
    "        w, x, y= heapq.heappop(heap)\n",
    "        if x == xbound and y == ybound:\n",
    "            return w\n",
    "        for dx, dy in (-1, 0), (1, 0), (0, -1), (0, 1):\n",
    "            _x = x+dx\n",
    "            _y = y+dy\n",
    "            if _x < 0 or _y < 0 or _x > xbound or _y > ybound:\n",
    "                continue\n",
    "            if (_x, _y) not in seen:\n",
    "                seen.add((_x, _y))\n",
    "                xd = _x // data.shape[0]\n",
    "                yd = _y // data.shape[1]\n",
    "                xm = _x  % data.shape[0]\n",
    "                ym = _y  % data.shape[1]\n",
    "                _w = w+(graph[xm, ym] + xd + yd - 1) % 9 + 1\n",
    "                heapq.heappush(heap, (_w, _x, _y))\n",
    "    \n",
    "\n",
    "print(dijkstra(data))\n",
    "print(dijkstra(data, 5))"
   ]
  },
  {
   "cell_type": "code",
   "execution_count": 41,
   "id": "80614a4f",
   "metadata": {
    "scrolled": false
   },
   "outputs": [
    {
     "data": {
      "text/plain": [
       "9"
      ]
     },
     "execution_count": 41,
     "metadata": {},
     "output_type": "execute_result"
    }
   ],
   "source": []
  },
  {
   "cell_type": "code",
   "execution_count": 36,
   "id": "97d598ed",
   "metadata": {},
   "outputs": [
    {
     "data": {
      "text/plain": [
       "1"
      ]
     },
     "execution_count": 36,
     "metadata": {},
     "output_type": "execute_result"
    }
   ],
   "source": []
  },
  {
   "cell_type": "code",
   "execution_count": null,
   "id": "aaa32735",
   "metadata": {},
   "outputs": [],
   "source": []
  },
  {
   "cell_type": "code",
   "execution_count": null,
   "id": "46a74701",
   "metadata": {},
   "outputs": [],
   "source": []
  }
 ],
 "metadata": {
  "kernelspec": {
   "display_name": "Python 3",
   "language": "python",
   "name": "python3"
  },
  "language_info": {
   "codemirror_mode": {
    "name": "ipython",
    "version": 3
   },
   "file_extension": ".py",
   "mimetype": "text/x-python",
   "name": "python",
   "nbconvert_exporter": "python",
   "pygments_lexer": "ipython3",
   "version": "3.7.10"
  }
 },
 "nbformat": 4,
 "nbformat_minor": 5
}
