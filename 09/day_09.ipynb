{
 "cells": [
  {
   "cell_type": "code",
   "execution_count": 1,
   "id": "082d4cdc",
   "metadata": {
    "scrolled": true
   },
   "outputs": [],
   "source": [
    "import numpy as np\n",
    "from scipy.signal import find_peaks\n",
    "with open('input.txt') as f:\n",
    "    data = np.array([list(x) for x in f.read().split()], dtype=int)"
   ]
  },
  {
   "cell_type": "code",
   "execution_count": 2,
   "id": "54263ffa",
   "metadata": {},
   "outputs": [
    {
     "name": "stdout",
     "output_type": "stream",
     "text": [
      "518\n"
     ]
    }
   ],
   "source": [
    "pdata = np.pad(data, 1, 'constant', constant_values=10)\n",
    "mins = ( (pdata < np.roll(pdata,  1, 1)) &\n",
    "         (pdata < np.roll(pdata, -1, 1)) &\n",
    "         (pdata < np.roll(pdata,  1, 0)) &\n",
    "         (pdata < np.roll(pdata, -1, 0)) &\n",
    "         (pdata < 10) )\n",
    "print(np.sum(pdata[mins] + 1))"
   ]
  },
  {
   "cell_type": "code",
   "execution_count": 10,
   "id": "80614a4f",
   "metadata": {
    "scrolled": true
   },
   "outputs": [
    {
     "name": "stdout",
     "output_type": "stream",
     "text": [
      "949905\n"
     ]
    }
   ],
   "source": [
    "def get_basin(pdata, x, y):\n",
    "    #go left:\n",
    "    points = [[x, y]]\n",
    "    for dx, dy in ((-1, 0),(0, -1),(1,0),(0,1)):\n",
    "        if test_point(pdata, x, y ,dx ,dy):\n",
    "            points += get_basin(pdata, x+dx, y+dy)\n",
    "    return points\n",
    "def test_point(pdata, x, y, dx, dy):\n",
    "    return (pdata[x, y] < pdata[x+dx, y+dy]) & (pdata[x+dx, y+dy]<9)\n",
    "\n",
    "basins = [np.unique(np.vstack(get_basin(pdata, x, y)),axis=0) for x,y in np.argwhere(mins)]\n",
    "basins = sorted(basins, key=lambda x:len(x), reverse=True)\n",
    "print(basins[0].shape[0]*basins[1].shape[0]*basins[2].shape[0])"
   ]
  },
  {
   "cell_type": "code",
   "execution_count": null,
   "id": "97d598ed",
   "metadata": {},
   "outputs": [],
   "source": []
  },
  {
   "cell_type": "code",
   "execution_count": null,
   "id": "aaa32735",
   "metadata": {},
   "outputs": [],
   "source": []
  }
 ],
 "metadata": {
  "kernelspec": {
   "display_name": "Python 3",
   "language": "python",
   "name": "python3"
  },
  "language_info": {
   "codemirror_mode": {
    "name": "ipython",
    "version": 3
   },
   "file_extension": ".py",
   "mimetype": "text/x-python",
   "name": "python",
   "nbconvert_exporter": "python",
   "pygments_lexer": "ipython3",
   "version": "3.7.10"
  }
 },
 "nbformat": 4,
 "nbformat_minor": 5
}
