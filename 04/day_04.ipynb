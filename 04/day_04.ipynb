{
 "cells": [
  {
   "cell_type": "code",
   "execution_count": 92,
   "id": "55f5cabb",
   "metadata": {},
   "outputs": [],
   "source": [
    "import numpy as np\n",
    "with open('input.txt') as f:\n",
    "    data= [x.strip().replace('\\n', ' ;') for x in f.read().replace('  ', ' ').split('\\n\\n')]\n",
    "    \n",
    "numbers = np.array([int(x) for x in data[0].split(',')])\n",
    "boards = [np.matrix(x) for x in data[1:]]\n",
    "\n",
    "#print(numbers)\n",
    "\n",
    "#print(boards)"
   ]
  },
  {
   "cell_type": "code",
   "execution_count": 79,
   "id": "76bcc682",
   "metadata": {},
   "outputs": [
    {
     "name": "stdout",
     "output_type": "stream",
     "text": [
      "16674\n"
     ]
    }
   ],
   "source": [
    "def part1():\n",
    "#part 1 (numbers on the boards):\n",
    "    for i in range(0, numbers.size+1):\n",
    "        for board in boards:\n",
    "            #rows:\n",
    "            for row in range(board.shape[0]):\n",
    "                if np.isin(board[row, :], numbers[:i]).all():\n",
    "                    #board wins\n",
    "                    rsum = np.sum(board[np.isin(board, numbers[:i], invert=True)])\n",
    "                    guess = numbers[i-1]\n",
    "                    return rsum * guess\n",
    "            for col in range(board.shape[1]):\n",
    "                if np.isin(board[:, col], numbers[:i]).all():\n",
    "                    #board wins\n",
    "                    rsum = np.sum(board[np.isin(board, numbers[:i], invert=True)])\n",
    "                    guess = numbers[i-1]\n",
    "                    return rsum * guess\n",
    "    return -1\n",
    "\n",
    "print(part1())\n"
   ]
  },
  {
   "cell_type": "code",
   "execution_count": 91,
   "id": "5b8716cf",
   "metadata": {},
   "outputs": [
    {
     "name": "stdout",
     "output_type": "stream",
     "text": [
      "7075\n"
     ]
    }
   ],
   "source": [
    "def part2():\n",
    "   #part 2 (bad board):\n",
    "    boardscores = np.array([[-1, 0] for x in boards])\n",
    "    for i in range(0, numbers.size+1):\n",
    "        for j in range(len(boards)):\n",
    "            if boardscores[j][0] != -1:\n",
    "                continue\n",
    "            board = boards[j]\n",
    "            #rows:\n",
    "            for row in range(board.shape[0]):\n",
    "                if np.isin(board[row, :], numbers[:i]).all():\n",
    "                    #board wins\n",
    "                    rsum = np.sum(board[np.isin(board, numbers[:i], invert=True)])\n",
    "                    guess = numbers[i-1]\n",
    "                    boardscores[j][0] = i\n",
    "                    boardscores[j][1] = rsum * guess\n",
    "            for col in range(board.shape[1]):\n",
    "                if np.isin(board[:, col], numbers[:i]).all():\n",
    "                    #board wins\n",
    "                    rsum = np.sum(board[np.isin(board, numbers[:i], invert=True)])\n",
    "                    guess = numbers[i-1]\n",
    "                    boardscores[j][0] = i\n",
    "                    boardscores[j][1] = rsum * guess\n",
    "    return boardscores[np.argsort(boardscores[:,0])][-1, 1]\n",
    "\n",
    "print(part2())"
   ]
  },
  {
   "cell_type": "code",
   "execution_count": null,
   "id": "b27e6b4f",
   "metadata": {},
   "outputs": [],
   "source": []
  },
  {
   "cell_type": "code",
   "execution_count": null,
   "id": "1db28674",
   "metadata": {},
   "outputs": [],
   "source": []
  }
 ],
 "metadata": {
  "kernelspec": {
   "display_name": "Python 3",
   "language": "python",
   "name": "python3"
  },
  "language_info": {
   "codemirror_mode": {
    "name": "ipython",
    "version": 3
   },
   "file_extension": ".py",
   "mimetype": "text/x-python",
   "name": "python",
   "nbconvert_exporter": "python",
   "pygments_lexer": "ipython3",
   "version": "3.7.10"
  }
 },
 "nbformat": 4,
 "nbformat_minor": 5
}
