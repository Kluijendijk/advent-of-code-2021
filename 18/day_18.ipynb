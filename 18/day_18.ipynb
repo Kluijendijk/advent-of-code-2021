{
 "cells": [
  {
   "cell_type": "code",
   "execution_count": 1,
   "id": "082d4cdc",
   "metadata": {
    "scrolled": true
   },
   "outputs": [],
   "source": [
    "import numpy as np\n",
    "import sympy as sp"
   ]
  },
  {
   "cell_type": "code",
   "execution_count": 2,
   "id": "54263ffa",
   "metadata": {
    "scrolled": false
   },
   "outputs": [],
   "source": [
    "class sfn:\n",
    "    def print_tree(s):\n",
    "        dashes = \"\"\n",
    "        for c in s:\n",
    "            if c == ']':\n",
    "                dashes = dashes[:-1]\n",
    "            print(f\"{dashes}{c}\")\n",
    "            if c == '[':\n",
    "                dashes += \"-\"\n",
    "    def from_split(n):\n",
    "        return sfn(x=int(n/2.), y=int(n/2.+0.5))\n",
    "\n",
    "    def _deep_copy(self):\n",
    "        if type(self.x) != int:\n",
    "            newx = self.x._deep_copy()\n",
    "        else:\n",
    "            newx = self.x\n",
    "        if type(self.y) != int:\n",
    "            newy = self.y._deep_copy()\n",
    "        else:\n",
    "            newy = self.y\n",
    "        return sfn(newx, newy)\n",
    "    \n",
    "    def __init__(self, x, y):\n",
    "        self.x = x\n",
    "        self.y = y\n",
    "        \n",
    "    def __str__(self):\n",
    "        return f\"[{self.x},{self.y}]\"\n",
    "    \n",
    "    def __add__(self, other):\n",
    "        return sfn(self, other)._deep_copy()\n",
    "    \n",
    "    def reduce(self):\n",
    "        while (self._explode()[2]):\n",
    "            pass\n",
    "        if self.split():\n",
    "            self.reduce()\n",
    "        \n",
    "    def _explode(self, n=0):\n",
    "        al = None\n",
    "        ar = None\n",
    "        exp = False\n",
    "        if n == 4:\n",
    "            return self.x, self.y, True\n",
    "        if type(self.x) == sfn:\n",
    "            al, ar, exp = self.x._explode(n=n+1)\n",
    "            if ar is not None:\n",
    "                if al is not None:\n",
    "                    self.x = 0\n",
    "                if type(self.y) == sfn:\n",
    "                    self.y.add_left(ar)\n",
    "                else:\n",
    "                    self.y += ar\n",
    "                ar = None\n",
    "            if exp:\n",
    "                return al, ar, exp\n",
    "        if type(self.y) == sfn:\n",
    "            al, ar, exp = self.y._explode(n=n+1)\n",
    "            if al is not None:\n",
    "                if ar is not None:\n",
    "                    self.y = 0\n",
    "                if type(self.x) == sfn:\n",
    "                    self.x.add_right(al)\n",
    "                else:\n",
    "                    self.x += al\n",
    "                al = None\n",
    "            if exp:\n",
    "                return al, ar, exp\n",
    "        return None, None, exp\n",
    "    \n",
    "    def split(self):\n",
    "        red = False\n",
    "        if type(self.x) == int:\n",
    "            if self.x >= 10:\n",
    "                self.x = sfn.from_split(self.x)\n",
    "                red = True\n",
    "        else:\n",
    "            red = self.x.split()\n",
    "        if red:\n",
    "            return red\n",
    "        if type(self.y) == int:\n",
    "            if self.y >= 10:\n",
    "                self.y = sfn.from_split(self.y)\n",
    "                red = True\n",
    "        else:\n",
    "            red = self.y.split()\n",
    "        return red\n",
    "    \n",
    "    def add_left(self, val):\n",
    "        if type(self.x) == sfn:\n",
    "            self.x.add_left(val)\n",
    "        else:\n",
    "            self.x += val\n",
    "    \n",
    "    def add_right(self, val):\n",
    "        if type(self.y) == sfn:\n",
    "            self.y.add_right(val)\n",
    "        else:\n",
    "            self.y += val\n",
    "    \n",
    "    def __int__(self):\n",
    "        return 3*int(self.x) + 2*int(self.y)\n",
    "    \n",
    "    def __eq__(self, other):\n",
    "        if type(other) != sfn:\n",
    "            return False\n",
    "        return self.x == other.x and self.y == other.y"
   ]
  },
  {
   "cell_type": "code",
   "execution_count": 3,
   "id": "1f4c6df6",
   "metadata": {
    "scrolled": false
   },
   "outputs": [
    {
     "name": "stdout",
     "output_type": "stream",
     "text": [
      "[[[[0,7],4],[[7,8],[6,0]]],[8,1]]\n"
     ]
    }
   ],
   "source": [
    "tst= \"[[[[[4,3],4],4],[7,[[8,4],9]]],[1,1]]\"\n",
    "tstdata = eval(tst.replace('[',\"sfn(\").replace(\"]\", \")\"))\n",
    "tstdata.reduce()\n",
    "print(tstdata)"
   ]
  },
  {
   "cell_type": "code",
   "execution_count": 4,
   "id": "97d598ed",
   "metadata": {
    "scrolled": true
   },
   "outputs": [],
   "source": [
    "with open('input.txt') as f:\n",
    "    filelst = f.read().split('\\n')\n",
    "    pt1data = [eval(s.replace('[',\"sfn(\").replace(\"]\", \")\")) for s in filelst]\n",
    "    pt2data = [eval(s.replace('[',\"sfn(\").replace(\"]\", \")\")) for s in filelst]"
   ]
  },
  {
   "cell_type": "code",
   "execution_count": 5,
   "id": "aaa32735",
   "metadata": {
    "scrolled": false
   },
   "outputs": [
    {
     "name": "stdout",
     "output_type": "stream",
     "text": [
      "3699\n"
     ]
    }
   ],
   "source": [
    "#part 1\n",
    "numsum = pt1data.pop(0)\n",
    "while pt1data:\n",
    "    numsum = numsum + pt1data.pop(0)\n",
    "    numsum.reduce()\n",
    "print(int(numsum))"
   ]
  },
  {
   "cell_type": "code",
   "execution_count": 6,
   "id": "748e2a55",
   "metadata": {},
   "outputs": [
    {
     "name": "stdout",
     "output_type": "stream",
     "text": [
      "4735\n"
     ]
    }
   ],
   "source": [
    "mx = -1\n",
    "for i in pt2data:\n",
    "    for j in pt2data:\n",
    "        if j == i:\n",
    "            continue\n",
    "        sum_ij = i + j\n",
    "        sum_ij.reduce()\n",
    "        mag = int(sum_ij)\n",
    "        if mag> mx:\n",
    "            mx = mag\n",
    "print(mx)"
   ]
  },
  {
   "cell_type": "code",
   "execution_count": null,
   "id": "3b455691",
   "metadata": {},
   "outputs": [],
   "source": []
  }
 ],
 "metadata": {
  "kernelspec": {
   "display_name": "Python 3",
   "language": "python",
   "name": "python3"
  },
  "language_info": {
   "codemirror_mode": {
    "name": "ipython",
    "version": 3
   },
   "file_extension": ".py",
   "mimetype": "text/x-python",
   "name": "python",
   "nbconvert_exporter": "python",
   "pygments_lexer": "ipython3",
   "version": "3.7.10"
  }
 },
 "nbformat": 4,
 "nbformat_minor": 5
}
