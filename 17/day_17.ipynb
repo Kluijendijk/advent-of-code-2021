{
 "cells": [
  {
   "cell_type": "code",
   "execution_count": 86,
   "id": "082d4cdc",
   "metadata": {
    "scrolled": true
   },
   "outputs": [
    {
     "data": {
      "text/plain": [
       "array([[  70,   96],\n",
       "       [-179, -124]], dtype=int64)"
      ]
     },
     "execution_count": 86,
     "metadata": {},
     "output_type": "execute_result"
    }
   ],
   "source": [
    "import numpy as np\n",
    "import sympy as sp\n",
    "with open('sample.txt') as f:\n",
    "    data = np.array([x.split('..') for x in f.read().replace(\"target area: x=\", \"\") \\\n",
    "        .replace(\"y=\", '').split(', ')],dtype=np.int64)\n",
    "data"
   ]
  },
  {
   "cell_type": "code",
   "execution_count": 44,
   "id": "54263ffa",
   "metadata": {
    "scrolled": false
   },
   "outputs": [
    {
     "name": "stdout",
     "output_type": "stream",
     "text": [
      "starting v: (13, 178) max height: 15931.0\n"
     ]
    }
   ],
   "source": [
    "vx = int((np.sqrt(8*data[0, 1]+1)-1)/2)\n",
    "yv = abs(int(data[1, 0]))-1\n",
    "maxy = yv*(yv+1)/2\n",
    "\n",
    "print(f\"starting v: ({vx}, {yv}) max height: {maxy}\")"
   ]
  },
  {
   "cell_type": "code",
   "execution_count": 134,
   "id": "97d598ed",
   "metadata": {
    "scrolled": true
   },
   "outputs": [
    {
     "name": "stdout",
     "output_type": "stream",
     "text": [
      "2555\n"
     ]
    }
   ],
   "source": [
    "for x in range(1, data[0,1]+1):\n",
    "    for y in range(data[1,0], int(3e2)):\n",
    "        xpos, ypos = 0, 0\n",
    "        vx = x\n",
    "        vy = y\n",
    "        while ypos >= data[1,0]:\n",
    "            xpos += vx\n",
    "            ypos += vy\n",
    "            if (xpos >= data[0,0] and xpos <= data[0,1] and\n",
    "                ypos >= data[1,0] and ypos <= data[1,1]):\n",
    "                points.add((x, y))\n",
    "                break\n",
    "                \n",
    "            vx = max(vx - 1, 0)\n",
    "            vy -= 1\n",
    "print(len(points))  #2555"
   ]
  },
  {
   "cell_type": "code",
   "execution_count": 135,
   "id": "aaa32735",
   "metadata": {
    "scrolled": true
   },
   "outputs": [
    {
     "name": "stdout",
     "output_type": "stream",
     "text": [
      "n = [x - sqrt(-8*mi + 4*x**2 - 4*x + 1)/2 - 1/2, x + sqrt(-8*mi + 4*x**2 - 4*x + 1)/2 - 1/2]\n",
      "x = [(mi + n*(n + 1)/2)/n]\n"
     ]
    }
   ],
   "source": [
    "x = sp.Symbol('x')\n",
    "n = sp.Symbol('n')\n",
    "mi = sp.Symbol('mi')\n",
    "ma = sp.Symbol('ma')\n",
    "\n",
    "eq = sp.Eq(mi, x*n - (n*(n+1)/2))\n",
    "\n",
    "print(f\"n = {sp.solve(eq, n)}\")\n",
    "print(f\"x = {sp.solve(eq, x)}\")"
   ]
  },
  {
   "cell_type": "code",
   "execution_count": null,
   "id": "0ccd8afe",
   "metadata": {},
   "outputs": [],
   "source": []
  },
  {
   "cell_type": "code",
   "execution_count": null,
   "id": "e6e2f894",
   "metadata": {},
   "outputs": [],
   "source": []
  },
  {
   "cell_type": "code",
   "execution_count": null,
   "id": "159f3cb5",
   "metadata": {},
   "outputs": [],
   "source": []
  },
  {
   "cell_type": "code",
   "execution_count": null,
   "id": "177e03a7",
   "metadata": {},
   "outputs": [],
   "source": []
  }
 ],
 "metadata": {
  "kernelspec": {
   "display_name": "Python 3",
   "language": "python",
   "name": "python3"
  },
  "language_info": {
   "codemirror_mode": {
    "name": "ipython",
    "version": 3
   },
   "file_extension": ".py",
   "mimetype": "text/x-python",
   "name": "python",
   "nbconvert_exporter": "python",
   "pygments_lexer": "ipython3",
   "version": "3.7.10"
  }
 },
 "nbformat": 4,
 "nbformat_minor": 5
}
