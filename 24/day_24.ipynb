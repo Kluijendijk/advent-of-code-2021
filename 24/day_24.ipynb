{
 "cells": [
  {
   "cell_type": "code",
   "execution_count": 1,
   "id": "682679d8",
   "metadata": {
    "scrolled": true
   },
   "outputs": [
    {
     "data": {
      "text/plain": [
       "':)'"
      ]
     },
     "execution_count": 1,
     "metadata": {},
     "output_type": "execute_result"
    }
   ],
   "source": [
    "import numpy as np\n",
    "import re\n",
    "import functools\n",
    "\n",
    "with open(\"input.txt\") as f:\n",
    "    p = r'([a-z][a-z][a-z]) ([a-z]) ?(.*)'\n",
    "    data = [re.match(p, x) for x in f.read().split('\\n')]\n",
    "\n",
    "#[print(x.groups()) for x in data]\n",
    "\":)\""
   ]
  },
  {
   "cell_type": "code",
   "execution_count": 2,
   "id": "4649f60a",
   "metadata": {
    "scrolled": false
   },
   "outputs": [],
   "source": [
    "#  # used to find what the commands were doing\n",
    "\n",
    "# model_number = iter(list(\"000000000000000\"))\n",
    "# ops = {'inp': '*0+int(next(model_number)))#', 'add': '+', \n",
    "#        'mul': '*', 'div': '/', 'mod': '%', 'eql': '=='}\n",
    "# w, x, y, z = 0,0,0,0\n",
    "# commands = []\n",
    "# lstind = -1\n",
    "# for line in data:\n",
    "#     command = f\"{line.group(2)} = int({line.group(2)} {ops[line.group(1)]} {line.group(3)})\"\n",
    "#     exec(command)\n",
    "#     #print(f\"{command:40s} | {w}, {x}, {y}, {z}\")\n",
    "#     if line.group(1) == 'inp':\n",
    "#         lstind += 0\n",
    "#         commands.append([])\n",
    "#     commands[lstind].append(line[0])\n",
    "# for i in range(len(commands)):\n",
    "#     for j in range(len(commands[0])):\n",
    "#         try:\n",
    "#             print(f\"{commands[i][j]:9s}\", end='|')\n",
    "#         except:\n",
    "#             pass\n",
    "#     print()"
   ]
  },
  {
   "cell_type": "code",
   "execution_count": 3,
   "id": "9569fd48",
   "metadata": {},
   "outputs": [],
   "source": [
    "def test_model(number):\n",
    "    model_number = iter(list(str(number)))\n",
    "    ops = {'inp': '*0+int(next(model_number)))#', 'add': '+', \n",
    "       'mul': '*', 'div': '/', 'mod': '%', 'eql': '=='}\n",
    "    w, x, y, z = 0,0,0,0\n",
    "\n",
    "    for line in data:\n",
    "        command = f\"{line.group(2)} = int({line.group(2)} {ops[line.group(1)]} {line.group(3)})\"\n",
    "        exec(command)\n",
    "    return w, x, y, z"
   ]
  },
  {
   "cell_type": "markdown",
   "id": "f792a224",
   "metadata": {},
   "source": [
    "Equations to solve:\n",
    "\n",
    "    w5  + k5  + c6  = w6\n",
    "    w7  + k7  + c8  = w8\n",
    "    w4  + k4  + c9  = w9\n",
    "    w10 + k10 + c11 = w11\n",
    "    w3  + k3  + c12 = w12\n",
    "    w2  + k2  + c13 = w13\n",
    "    w1  + k1  + c14 = w14\n",
    "\n",
    "where:\n",
    "- wi is the ith number of w (so w1 is most significant, w14 least)\n",
    "- ki is the ith constant that gets added to y towards the end of one cycle (command 16 of 18 command cycle)\n",
    "- ci is the ith constant that gets added to x towards the start of one cycle (command 6 of 18 command cycle)\n"
   ]
  },
  {
   "cell_type": "code",
   "execution_count": 4,
   "id": "7dd7f9a4",
   "metadata": {},
   "outputs": [
    {
     "name": "stdout",
     "output_type": "stream",
     "text": [
      "[ 12  11  13  11  14 -10  11  -9  -3  13  -5 -10  -4  -5] [ 4 11  5 11 14  7 11  4  6  5  9 12 14 14] \n",
      " [4 6 3 9 2 1 0] [ 5  7  8 10 11 12 13]\n"
     ]
    }
   ],
   "source": [
    "def get_constants(data):\n",
    "    '''find the constants, and the indexes that are relevant to create the above set of equations'''\n",
    "    d = [x[3] for x in data]\n",
    "    cycles = np.array(d).reshape(-1, 18)\n",
    "    c = cycles[:,  5].astype(int)\n",
    "    k = cycles[:, 15].astype(int)\n",
    "    a = cycles[:,  4].astype(int)\n",
    "    rhsi = np.argwhere(a==26).flatten()\n",
    "    lhsi_not_sorted = np.argwhere(a != 26).flatten()\n",
    "    lhsi = np.zeros(rhsi.shape).astype(int)\n",
    "    for ind in range(len(rhsi)):\n",
    "        #greatest value in lhsi_not_sorted thats less than rhsi[ind]\n",
    "        \n",
    "        _lind = np.argwhere(lhsi_not_sorted < rhsi[ind]).flatten()[-1]\n",
    "        lhsi[ind] = lhsi_not_sorted[_lind]\n",
    "        lhsi_not_sorted[_lind] = 15\n",
    "        \n",
    "    return c, k, lhsi, rhsi\n",
    "c, k, lhsi, rhsi = get_constants(data)\n",
    "w = np.zeros(14) + 9\n",
    "print(c, k, '\\n', lhsi, rhsi)"
   ]
  },
  {
   "cell_type": "code",
   "execution_count": 5,
   "id": "b1d4e9b1",
   "metadata": {},
   "outputs": [
    {
     "name": "stdout",
     "output_type": "stream",
     "text": [
      "i:   0   1   2   3   4   5   6   7   8   9  10  11  12  13\n",
      "c:  12  11  13  11  14 -10  11  -9  -3  13  -5 -10  -4  -5\n",
      "k:   4  11   5  11  14   7  11   4   6   5   9  12  14  14"
     ]
    },
    {
     "data": {
      "text/plain": [
       "':)'"
      ]
     },
     "execution_count": 5,
     "metadata": {},
     "output_type": "execute_result"
    }
   ],
   "source": [
    "print(\"i:\", end='')\n",
    "[print(f\"{x: 4d}\", end='') for x in range(0, 14)]\n",
    "print(\"\\nc:\", end='')\n",
    "[print(f\"{x: 4d}\", end='') for x in c]\n",
    "print(\"\\nk:\", end='')\n",
    "[print(f\"{x: 4d}\", end='') for x in k]\n",
    "\":)\""
   ]
  },
  {
   "cell_type": "code",
   "execution_count": 6,
   "id": "c5db541c",
   "metadata": {},
   "outputs": [
    {
     "name": "stdout",
     "output_type": "stream",
     "text": [
      "part 1: 92915979999498\n",
      "tested: (0, 0, 0, 0)\n"
     ]
    }
   ],
   "source": [
    "b = k[lhsi] + c[rhsi] # w(rhs) - w(lhs)\n",
    "wlhs = np.ones(7) * 9 # to find the highest number, set the most significant side to 9\n",
    "wrhs = b + wlhs\n",
    "wlhs[wrhs > 9] -= wrhs[wrhs>9]-9 # make sure neither number is >9\n",
    "wrhs = b + wlhs\n",
    "w = np.ones(14, dtype=int) * 9\n",
    "w[lhsi] = wlhs\n",
    "w[rhsi] = wrhs\n",
    "print(\"part 1: \" + \"\".join(w.astype(str)))\n",
    "print(\"tested:\", test_model(\"\".join(w.astype(str))))"
   ]
  },
  {
   "cell_type": "code",
   "execution_count": 7,
   "id": "258cadfd",
   "metadata": {},
   "outputs": [
    {
     "name": "stdout",
     "output_type": "stream",
     "text": [
      "part 1: 21611513911181\n",
      "tested: (0, 0, 0, 0)\n"
     ]
    }
   ],
   "source": [
    "wlhs = np.ones(7) #same as above, but not minimizing while keeping numbers from being too small\n",
    "wrhs = b + wlhs\n",
    "wlhs[wrhs < 1] += 1-wrhs[wrhs<1]\n",
    "wrhs = b + wlhs\n",
    "w = np.ones(14, dtype=int) * 9\n",
    "w[lhsi] = wlhs\n",
    "w[rhsi] = wrhs\n",
    "print(\"part 1: \" + \"\".join(w.astype(str)))\n",
    "print(\"tested:\", test_model(\"\".join(w.astype(str))))"
   ]
  },
  {
   "cell_type": "code",
   "execution_count": null,
   "id": "4b4d3f62",
   "metadata": {},
   "outputs": [],
   "source": []
  }
 ],
 "metadata": {
  "kernelspec": {
   "display_name": "Python 3",
   "language": "python",
   "name": "python3"
  },
  "language_info": {
   "codemirror_mode": {
    "name": "ipython",
    "version": 3
   },
   "file_extension": ".py",
   "mimetype": "text/x-python",
   "name": "python",
   "nbconvert_exporter": "python",
   "pygments_lexer": "ipython3",
   "version": "3.7.10"
  }
 },
 "nbformat": 4,
 "nbformat_minor": 5
}
