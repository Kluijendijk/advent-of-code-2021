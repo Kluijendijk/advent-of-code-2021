{
 "cells": [
  {
   "cell_type": "code",
   "execution_count": 1,
   "id": "082d4cdc",
   "metadata": {
    "scrolled": true
   },
   "outputs": [],
   "source": [
    "from collections import deque\n",
    "import numpy as np\n",
    "import re\n",
    "with open('input.txt') as f:\n",
    "    data = f.read().split('\\n')"
   ]
  },
  {
   "cell_type": "code",
   "execution_count": 2,
   "id": "54263ffa",
   "metadata": {},
   "outputs": [
    {
     "data": {
      "text/plain": [
       "265527"
      ]
     },
     "execution_count": 2,
     "metadata": {},
     "output_type": "execute_result"
    }
   ],
   "source": [
    "points = {')': 3, ']': 57, '}': 1197, '>': 25137}\n",
    "pairs = {'{':'}', '[':']','(':')','<':'>'}\n",
    "openers = \"{[(<\"\n",
    "closers = \"}])>\"\n",
    "stack = deque()\n",
    "\n",
    "def testline(line):\n",
    "    stack = deque()\n",
    "    lst = list(line)\n",
    "    for c in lst:\n",
    "        if c in openers:\n",
    "            stack.append(c)\n",
    "        if c in closers:\n",
    "            if not stack or c != pairs[stack.pop()]:\n",
    "                return points[c]\n",
    "    return 0\n",
    "out = 0\n",
    "for line in data:\n",
    "    out += testline(line)\n",
    "\n",
    "out         "
   ]
  },
  {
   "cell_type": "code",
   "execution_count": 4,
   "id": "80614a4f",
   "metadata": {
    "scrolled": true
   },
   "outputs": [
    {
     "data": {
      "text/plain": [
       "3969823589.0"
      ]
     },
     "execution_count": 4,
     "metadata": {},
     "output_type": "execute_result"
    }
   ],
   "source": [
    "points = {')': 1, ']': 2, '}': 3, '>': 4}\n",
    "def testlinept2(line):\n",
    "    stack = deque()\n",
    "    lst = list(line)\n",
    "    for c in lst:\n",
    "        if c in openers:\n",
    "            stack.append(c)\n",
    "        if c in closers:\n",
    "            if not stack or c != pairs[stack.pop()]:\n",
    "                return -1\n",
    "    out = 0\n",
    "    for _ in range(len(stack)):\n",
    "        c = stack.pop()\n",
    "        out *= 5\n",
    "        out += points[pairs[c]]\n",
    "    return out\n",
    "outs = []\n",
    "for line in data:\n",
    "    out = testlinept2(line)\n",
    "    if out > -1:\n",
    "        outs += [out]\n",
    "outs = np.array(outs)\n",
    "np.median(outs)"
   ]
  },
  {
   "cell_type": "code",
   "execution_count": null,
   "id": "97d598ed",
   "metadata": {},
   "outputs": [],
   "source": []
  },
  {
   "cell_type": "code",
   "execution_count": null,
   "id": "aaa32735",
   "metadata": {},
   "outputs": [],
   "source": []
  }
 ],
 "metadata": {
  "kernelspec": {
   "display_name": "Python 3",
   "language": "python",
   "name": "python3"
  },
  "language_info": {
   "codemirror_mode": {
    "name": "ipython",
    "version": 3
   },
   "file_extension": ".py",
   "mimetype": "text/x-python",
   "name": "python",
   "nbconvert_exporter": "python",
   "pygments_lexer": "ipython3",
   "version": "3.7.10"
  }
 },
 "nbformat": 4,
 "nbformat_minor": 5
}
