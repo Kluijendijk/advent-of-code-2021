{
 "cells": [
  {
   "cell_type": "code",
   "execution_count": 7,
   "id": "082d4cdc",
   "metadata": {
    "scrolled": true
   },
   "outputs": [
    {
     "name": "stdout",
     "output_type": "stream",
     "text": [
      "820.0\n"
     ]
    }
   ],
   "source": [
    "import numpy as np\n",
    "with open('input.txt') as f:\n",
    "    data, folds = f.read().split('\\n\\n')\n",
    "    data = np.array([x.split(',') for x in data.split('\\n')], dtype=np.int64)\n",
    "    folds = folds.split('\\n')\n",
    "for f in range(len(folds)):\n",
    "    folds[f] = folds[f].split('=')\n",
    "    folds[f][0] = folds[f][0][-1]\n",
    "    folds[f][1] = int(folds[f][1])\n",
    "    \n",
    "grid = np.zeros((np.max(data[:,0])+1, np.max(data[:,1])+1))\n",
    "for i in range(data.shape[0]):\n",
    "    grid[data[i, 0],data[i,1]] = True\n",
    "grid = grid.T\n",
    "print(np.sum(grid))"
   ]
  },
  {
   "cell_type": "code",
   "execution_count": 2,
   "id": "54263ffa",
   "metadata": {
    "scrolled": false
   },
   "outputs": [
    {
     "name": "stdout",
     "output_type": "stream",
     "text": [
      "[[0. 0. 0. ... 0. 0. 0.]\n",
      " [0. 0. 0. ... 0. 0. 0.]\n",
      " [0. 0. 0. ... 0. 0. 0.]\n",
      " ...\n",
      " [0. 0. 0. ... 0. 0. 0.]\n",
      " [0. 0. 0. ... 0. 0. 0.]\n",
      " [0. 0. 0. ... 0. 0. 0.]]\n",
      "682\n"
     ]
    }
   ],
   "source": [
    "def fold(grid, ori, c):\n",
    "    if ori == 'y':\n",
    "        newgrid = grid[:c,:] + grid[:c:-1,:]\n",
    "    else:\n",
    "        newgrid = grid[:, :c] + grid[:, :c:-1]\n",
    "    return newgrid\n",
    "fold1 = folds[0]\n",
    "\n",
    "grid1 = fold(grid, fold1[0], fold1[1])\n",
    "print(np.sum(grid1>0))"
   ]
  },
  {
   "cell_type": "code",
   "execution_count": 6,
   "id": "80614a4f",
   "metadata": {
    "scrolled": false
   },
   "outputs": [
    {
     "name": "stdout",
     "output_type": "stream",
     "text": [
      "####..##...##..#..#.###..####.#..#.####.\n",
      "#....#..#.#..#.#..#.#..#....#.#..#.#....\n",
      "###..#..#.#....#..#.#..#...#..####.###..\n",
      "#....####.#.##.#..#.###...#...#..#.#....\n",
      "#....#..#.#..#.#..#.#.#..#....#..#.#....\n",
      "#....#..#..###..##..#..#.####.#..#.####.\n"
     ]
    }
   ],
   "source": [
    "nxtfold = grid.copy()\n",
    "for f in folds:\n",
    "    nxtfold = fold(nxtfold, f[0], f[1])\n",
    "for row in range(nxtfold.shape[0]):\n",
    "    for col in range(nxtfold.shape[1]):\n",
    "        print('#' if nxtfold[row, col] else '.',end='')\n",
    "    print()\n"
   ]
  },
  {
   "cell_type": "code",
   "execution_count": null,
   "id": "97d598ed",
   "metadata": {},
   "outputs": [],
   "source": []
  },
  {
   "cell_type": "code",
   "execution_count": null,
   "id": "aaa32735",
   "metadata": {},
   "outputs": [],
   "source": []
  }
 ],
 "metadata": {
  "kernelspec": {
   "display_name": "Python 3",
   "language": "python",
   "name": "python3"
  },
  "language_info": {
   "codemirror_mode": {
    "name": "ipython",
    "version": 3
   },
   "file_extension": ".py",
   "mimetype": "text/x-python",
   "name": "python",
   "nbconvert_exporter": "python",
   "pygments_lexer": "ipython3",
   "version": "3.7.10"
  }
 },
 "nbformat": 4,
 "nbformat_minor": 5
}
