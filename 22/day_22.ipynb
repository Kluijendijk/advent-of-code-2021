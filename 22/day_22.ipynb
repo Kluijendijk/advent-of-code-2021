{
 "cells": [
  {
   "cell_type": "code",
   "execution_count": 1,
   "id": "682679d8",
   "metadata": {},
   "outputs": [
    {
     "data": {
      "text/plain": [
       "array([[     1,    -29,    -30, ...,     23,     15,     49],\n",
       "       [     1,    -15,    -36, ...,     38,     10,      7],\n",
       "       [     1,    -35,    -28, ...,     17,     24,      2],\n",
       "       ...,\n",
       "       [     1,  44297,  12992, ...,  63319,  24574,  65139],\n",
       "       [     0,  20452, -73174, ...,  22744, -56753, -21933],\n",
       "       [     1, -50494,  67270, ..., -27967,  81084,  -1163]], dtype=int64)"
      ]
     },
     "execution_count": 1,
     "metadata": {},
     "output_type": "execute_result"
    }
   ],
   "source": [
    "import numpy as np\n",
    "import re\n",
    "import functools\n",
    "\n",
    "with open(\"input.txt\") as f:\n",
    "    p = r\"((?:on)|(?:off)) x=(-?\\d*?)\\.\\.(\\d*?)(-?\\d*?),y=(-?\\d*?)\\.\\.(\\d*?)(-?\\d*?),z=(-?\\d*?)\\.\\.(\\d*?)(-?\\d*)\"\n",
    "    data = [re.match(p,x) for x in f.read().split('\\n')]\n",
    "    data=np.array([\n",
    "        (int(x.group(1)=='on'),                          #+1 if on, -1 if off\n",
    "         int(x.group(2)), int(x.group(5)), int(x.group(8 )), #bottom-left point\n",
    "         int(x.group(4)), int(x.group(7)), int(x.group(10))) #top-right point\n",
    "         for x in data], dtype=np.int64)\n",
    "data"
   ]
  },
  {
   "cell_type": "code",
   "execution_count": 4,
   "id": "4649f60a",
   "metadata": {},
   "outputs": [
    {
     "name": "stdout",
     "output_type": "stream",
     "text": [
      "part 1: 537042\n",
      "part 2: 1304385553084863\n"
     ]
    }
   ],
   "source": [
    "class prism:\n",
    "    def __init__(self, v):\n",
    "        self.v = v\n",
    "        self.p1 = v[1:4]\n",
    "        self.p2 = v[4:]\n",
    "        self.val, self.x1, self.y1, self.z1, self.x2, self.y2, self.z2 = v\n",
    "        self.dx, self.dy, self.dz = np.abs(self.p1-self.p2) + 1\n",
    "        self.size = self.dx*self.dy*self.dz\n",
    "    \n",
    "    @functools.lru_cache(maxsize=0) #this doesnt actually do anything\n",
    "    def intersection_area(self, other):\n",
    "        ov1 = np.max(np.vstack((self.p1, other.p1)), axis=0)\n",
    "        ov2 = np.min(np.vstack((self.p2, other.p2)), axis=0)\n",
    "        if (ov1 > ov2).any():\n",
    "            return False, False, False\n",
    "        return np.prod(np.abs(ov2 - ov1) + 1), ov1, ov2\n",
    "    \n",
    "\n",
    "prisms = []\n",
    "count = 0\n",
    "pt1 = True\n",
    "for row in data:\n",
    "    if pt1 and (np.abs(row) > 50).any():\n",
    "        print(f\"part 1: {count}\")\n",
    "        pt1 = False\n",
    "    new = prism(row)\n",
    "    if new.val == 1:\n",
    "        count += new.size\n",
    "    intersections = []\n",
    "    for old in prisms:\n",
    "        _count, ov1, ov2 = new.intersection_area(old)\n",
    "        if _count:\n",
    "            count -= _count*old.val\n",
    "            intersections.append(prism(np.hstack((-old.val, ov1, ov2)))) #not super happy with the runtime but meh\n",
    "    if new.val != 0:\n",
    "        prisms.append(new)\n",
    "    prisms += intersections\n",
    "    #print(count)\n",
    "print(f\"part 2: {count}\")"
   ]
  },
  {
   "cell_type": "code",
   "execution_count": null,
   "id": "823484ec",
   "metadata": {},
   "outputs": [],
   "source": []
  }
 ],
 "metadata": {
  "kernelspec": {
   "display_name": "Python 3",
   "language": "python",
   "name": "python3"
  },
  "language_info": {
   "codemirror_mode": {
    "name": "ipython",
    "version": 3
   },
   "file_extension": ".py",
   "mimetype": "text/x-python",
   "name": "python",
   "nbconvert_exporter": "python",
   "pygments_lexer": "ipython3",
   "version": "3.7.10"
  }
 },
 "nbformat": 4,
 "nbformat_minor": 5
}
