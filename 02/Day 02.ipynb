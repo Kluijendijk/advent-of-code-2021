{
 "cells": [
  {
   "cell_type": "code",
   "execution_count": 12,
   "id": "22843d38",
   "metadata": {
    "scrolled": true
   },
   "outputs": [
    {
     "name": "stdout",
     "output_type": "stream",
     "text": [
      "['forward 1', 'down 3', 'down 2', 'up 1', 'down 7', 'down 8', 'forward 6', 'forward 1', 'forward 1', 'down 6', 'up 3', 'down 7', 'down 1', 'down 6', 'forward 6', 'down 6', 'forward 3', 'up 7', 'forward 5', 'down 4', 'forward 6', 'forward 1', 'forward 6', 'forward 9', 'forward 3', 'up 1', 'forward 7', 'down 9', 'forward 2', 'up 9', 'down 5', 'down 3', 'up 1', 'down 6', 'down 7', 'down 8', 'down 7', 'forward 7', 'forward 3', 'down 5', 'down 2', 'forward 4', 'forward 7', 'down 8', 'down 4', 'down 5', 'down 1', 'forward 4', 'up 6', 'forward 6', 'forward 4', 'forward 5', 'up 3', 'up 6', 'down 4', 'down 8', 'forward 4', 'forward 5', 'down 3', 'forward 1', 'down 5', 'down 5', 'forward 8', 'forward 9', 'forward 1', 'forward 8', 'forward 5', 'forward 6', 'up 8', 'down 3', 'forward 8', 'up 2', 'down 3', 'down 9', 'up 9', 'forward 5', 'down 2', 'forward 7', 'forward 5', 'forward 5', 'down 2', 'down 3', 'forward 7', 'forward 9', 'down 9', 'forward 3', 'forward 3', 'down 3', 'forward 3', 'up 6', 'down 4', 'forward 3', 'forward 3', 'forward 7', 'down 4', 'forward 8', 'up 8', 'down 3', 'down 2', 'forward 2', 'down 6', 'down 6', 'up 7', 'up 9', 'down 4', 'up 7', 'up 8', 'down 6', 'down 1', 'forward 6', 'forward 9', 'forward 1', 'forward 8', 'down 4', 'up 3', 'forward 6', 'down 5', 'forward 7', 'forward 5', 'down 2', 'forward 7', 'down 6', 'forward 7', 'up 2', 'up 5', 'forward 3', 'down 6', 'down 9', 'down 9', 'forward 9', 'up 7', 'down 6', 'down 4', 'down 8', 'forward 6', 'up 6', 'down 2', 'forward 5', 'up 7', 'forward 5', 'down 1', 'up 8', 'forward 2', 'forward 4', 'down 5', 'down 8', 'up 7', 'up 5', 'down 2', 'forward 8', 'forward 4', 'up 6', 'forward 8', 'down 3', 'down 2', 'down 2', 'forward 4', 'forward 2', 'forward 9', 'up 3', 'up 7', 'up 3', 'up 5', 'forward 5', 'up 8', 'forward 3', 'forward 1', 'down 3', 'down 8', 'forward 6', 'forward 5', 'up 5', 'down 9', 'down 1', 'down 9', 'forward 9', 'up 3', 'forward 7', 'forward 6', 'forward 1', 'up 3', 'forward 9', 'forward 7', 'down 9', 'up 6', 'forward 2', 'up 9', 'forward 6', 'forward 4', 'up 3', 'forward 5', 'down 4', 'up 8', 'up 4', 'up 9', 'down 1', 'down 7', 'forward 7', 'forward 2', 'down 9', 'forward 7', 'forward 2', 'down 6', 'down 9', 'up 6', 'down 7', 'down 2', 'down 7', 'down 6', 'down 4', 'down 4', 'forward 6', 'forward 9', 'forward 4', 'down 7', 'down 5', 'up 6', 'down 7', 'forward 2', 'down 3', 'down 1', 'forward 1', 'forward 5', 'down 4', 'down 4', 'down 1', 'down 9', 'forward 6', 'down 3', 'forward 5', 'up 7', 'forward 9', 'down 8', 'down 3', 'up 2', 'up 2', 'forward 4', 'down 7', 'forward 2', 'forward 5', 'forward 4', 'forward 3', 'down 8', 'down 6', 'forward 9', 'down 1', 'forward 1', 'down 1', 'up 8', 'down 2', 'forward 2', 'up 5', 'down 7', 'forward 8', 'down 7', 'down 4', 'forward 2', 'forward 6', 'up 2', 'forward 8', 'forward 2', 'forward 1', 'up 5', 'down 4', 'down 8', 'forward 4', 'down 8', 'up 8', 'forward 3', 'down 5', 'forward 2', 'forward 1', 'up 3', 'forward 9', 'up 5', 'forward 5', 'forward 5', 'up 8', 'down 6', 'forward 3', 'down 4', 'up 5', 'forward 3', 'up 6', 'forward 6', 'forward 9', 'down 7', 'down 7', 'down 8', 'down 4', 'forward 4', 'forward 3', 'forward 3', 'forward 5', 'down 3', 'forward 8', 'up 5', 'forward 1', 'up 7', 'down 5', 'forward 7', 'forward 3', 'down 3', 'forward 2', 'forward 1', 'forward 4', 'up 2', 'down 8', 'forward 9', 'forward 9', 'down 6', 'down 1', 'down 5', 'forward 4', 'down 2', 'forward 1', 'up 7', 'down 9', 'forward 3', 'down 5', 'down 5', 'up 6', 'down 6', 'forward 8', 'down 1', 'up 3', 'down 2', 'up 1', 'forward 5', 'down 4', 'down 6', 'forward 8', 'down 4', 'down 5', 'down 2', 'forward 5', 'forward 8', 'down 8', 'up 4', 'forward 2', 'up 2', 'down 9', 'forward 6', 'forward 1', 'forward 5', 'up 2', 'down 1', 'up 7', 'up 3', 'forward 3', 'down 7', 'forward 2', 'forward 4', 'up 7', 'forward 4', 'forward 6', 'up 2', 'forward 4', 'forward 2', 'down 6', 'down 5', 'down 5', 'down 6', 'forward 9', 'up 4', 'down 4', 'down 7', 'up 6', 'up 9', 'up 4', 'down 4', 'up 7', 'down 9', 'down 9', 'forward 3', 'down 7', 'down 7', 'down 7', 'down 2', 'up 2', 'up 1', 'up 6', 'down 8', 'up 7', 'down 4', 'forward 8', 'down 7', 'up 1', 'down 5', 'down 3', 'forward 6', 'up 1', 'down 5', 'forward 3', 'forward 6', 'forward 7', 'forward 2', 'down 3', 'forward 1', 'up 9', 'down 5', 'up 2', 'up 9', 'up 2', 'up 2', 'forward 1', 'down 2', 'forward 1', 'down 7', 'forward 1', 'forward 8', 'down 9', 'down 1', 'forward 9', 'forward 7', 'forward 7', 'down 5', 'down 5', 'down 3', 'forward 6', 'down 7', 'down 4', 'forward 2', 'up 6', 'down 3', 'up 4', 'up 7', 'forward 2', 'forward 8', 'forward 4', 'down 7', 'down 9', 'up 1', 'down 2', 'up 8', 'down 2', 'up 6', 'forward 6', 'up 5', 'down 2', 'forward 5', 'down 4', 'forward 7', 'down 3', 'down 5', 'forward 1', 'down 7', 'forward 1', 'up 1', 'forward 4', 'up 4', 'forward 4', 'forward 5', 'forward 7', 'down 7', 'down 2', 'up 4', 'down 2', 'down 3', 'forward 3', 'forward 2', 'forward 5', 'forward 2', 'up 8', 'forward 3', 'down 7', 'down 9', 'forward 3', 'forward 6', 'down 7', 'down 5', 'down 3', 'up 3', 'forward 5', 'forward 2', 'down 1', 'up 1', 'up 8', 'down 6', 'down 4', 'down 1', 'forward 1', 'down 7', 'up 8', 'forward 2', 'forward 8', 'forward 8', 'forward 7', 'down 1', 'forward 8', 'down 8', 'forward 4', 'down 3', 'up 9', 'down 8', 'forward 9', 'down 7', 'up 2', 'forward 9', 'down 4', 'up 3', 'up 4', 'up 4', 'forward 5', 'up 2', 'forward 3', 'down 5', 'forward 5', 'down 5', 'up 8', 'down 4', 'forward 6', 'down 6', 'forward 7', 'forward 2', 'down 2', 'up 7', 'down 5', 'down 9', 'down 8', 'down 4', 'up 3', 'forward 4', 'down 8', 'down 8', 'down 9', 'down 7', 'forward 2', 'forward 8', 'up 5', 'forward 8', 'down 9', 'forward 6', 'up 1', 'down 6', 'forward 1', 'up 4', 'down 3', 'forward 3', 'forward 2', 'down 6', 'forward 7', 'up 6', 'up 9', 'down 1', 'forward 3', 'forward 4', 'forward 2', 'up 8', 'forward 9', 'up 7', 'down 2', 'forward 2', 'up 7', 'down 2', 'up 6', 'down 2', 'forward 9', 'forward 3', 'down 6', 'down 5', 'down 3', 'forward 9', 'down 8', 'down 8', 'down 2', 'down 7', 'up 3', 'forward 1', 'down 7', 'up 8', 'up 8', 'forward 5', 'forward 5', 'forward 1', 'down 8', 'down 6', 'forward 2', 'up 3', 'forward 1', 'forward 7', 'forward 4', 'forward 5', 'forward 9', 'forward 7', 'forward 6', 'forward 3', 'forward 4', 'down 8', 'down 1', 'forward 6', 'forward 9', 'forward 6', 'forward 9', 'forward 6', 'up 3', 'down 8', 'forward 4', 'forward 1', 'down 4', 'forward 9', 'down 8', 'down 3', 'up 2', 'forward 5', 'forward 2', 'forward 5', 'down 6', 'down 3', 'up 1', 'down 9', 'up 5', 'forward 6', 'down 7', 'forward 1', 'forward 9', 'down 2', 'down 5', 'forward 3', 'forward 6', 'down 4', 'down 5', 'up 4', 'forward 7', 'forward 5', 'down 8', 'forward 6', 'down 5', 'forward 2', 'down 7', 'forward 4', 'forward 8', 'down 8', 'forward 2', 'forward 8', 'down 5', 'forward 7', 'down 8', 'down 1', 'forward 8', 'down 4', 'up 4', 'down 7', 'down 6', 'up 5', 'forward 4', 'forward 1', 'forward 4', 'down 5', 'forward 5', 'forward 9', 'down 1', 'forward 3', 'up 7', 'down 1', 'down 7', 'forward 2', 'down 5', 'down 6', 'forward 5', 'up 2', 'down 9', 'forward 1', 'up 5', 'forward 6', 'forward 9', 'forward 4', 'up 4', 'down 6', 'up 9', 'up 5', 'down 2', 'up 9', 'down 2', 'down 4', 'down 8', 'down 2', 'forward 2', 'forward 2', 'down 9', 'up 5', 'forward 2', 'forward 8', 'down 2', 'down 2', 'down 9', 'down 3', 'down 9', 'up 9', 'up 3', 'down 1', 'down 9', 'down 2', 'forward 7', 'down 2', 'up 3', 'down 9', 'up 2', 'up 4', 'forward 5', 'forward 7', 'down 7', 'up 7', 'up 5', 'down 8', 'up 2', 'forward 2', 'down 3', 'down 5', 'forward 2', 'forward 3', 'forward 3', 'down 1', 'down 1', 'forward 9', 'down 5', 'down 7', 'forward 7', 'forward 5', 'up 9', 'forward 3', 'up 4', 'forward 1', 'forward 3', 'down 4', 'forward 9', 'down 5', 'down 3', 'down 5', 'forward 6', 'down 6', 'forward 2', 'up 4', 'down 4', 'forward 2', 'down 8', 'up 9', 'forward 9', 'forward 4', 'down 8', 'forward 2', 'forward 5', 'forward 1', 'forward 5', 'up 1', 'forward 7', 'forward 9', 'down 5', 'forward 6', 'down 1', 'forward 6', 'down 2', 'forward 9', 'down 1', 'forward 1', 'down 4', 'down 6', 'down 2', 'up 7', 'up 5', 'forward 8', 'forward 1', 'down 8', 'forward 1', 'forward 2', 'down 8', 'forward 7', 'down 5', 'forward 1', 'down 2', 'up 7', 'forward 7', 'down 4', 'down 8', 'up 6', 'up 4', 'forward 7', 'down 3', 'up 5', 'down 5', 'forward 7', 'up 7', 'down 6', 'forward 8', 'down 7', 'down 2', 'up 3', 'down 9', 'down 7', 'down 8', 'forward 4', 'forward 3', 'forward 9', 'forward 6', 'up 7', 'forward 5', 'down 4', 'down 5', 'forward 6', 'up 9', 'down 6', 'down 7', 'down 8', 'down 9', 'down 4', 'up 5', 'down 4', 'forward 5', 'forward 3', 'down 3', 'down 7', 'up 8', 'forward 5', 'down 8', 'down 1', 'down 6', 'down 9', 'up 4', 'up 1', 'down 8', 'down 3', 'down 8', 'up 4', 'down 7', 'down 6', 'forward 7', 'up 9', 'down 4', 'down 1', 'down 6', 'down 2', 'forward 7', 'down 2', 'down 7', 'forward 3', 'forward 6', 'up 2', 'down 4', 'up 1', 'forward 4', 'up 2', 'down 4', 'up 3', 'down 8', 'up 9', 'forward 8', 'down 5', 'down 4', 'forward 8', 'down 1', 'down 8', 'forward 3', 'down 4', 'forward 5', 'down 5', 'up 9', 'forward 1', 'down 9', 'down 1', 'forward 4', 'forward 9', 'up 1', 'forward 4', 'forward 2', 'down 9', 'down 1', 'forward 1', 'down 2', 'forward 2', 'down 5', 'up 4', 'up 7', 'down 8', 'forward 3', 'up 1', 'down 4', 'forward 5', 'up 2', 'forward 4', 'forward 2', 'down 1', 'forward 4', 'forward 1', 'up 5', 'forward 8', 'forward 4', 'forward 1', 'down 6', 'down 7', 'up 4', 'forward 9', 'up 6', 'forward 9', 'forward 3', 'forward 2', 'down 2', 'forward 7', 'up 7', 'forward 7', 'down 4', 'down 6', 'forward 8', 'up 8', 'forward 1', 'forward 3', 'forward 3', 'up 8', 'down 1', 'up 9', 'forward 1', 'up 1', 'down 7', 'forward 7', 'up 5', 'forward 5', 'up 9', 'up 3', 'forward 2', 'forward 6', 'up 1', 'forward 5', 'up 1', 'down 3', 'down 5', 'forward 8', 'up 5', 'forward 1', 'down 8', 'forward 4', 'down 3', 'down 1', 'down 7', 'forward 7', 'forward 3', 'down 4', 'forward 9', 'up 5', 'down 2', 'forward 4', 'up 7', 'up 5', 'forward 3', 'down 7', 'forward 8', 'up 4', 'up 2', 'forward 2', 'down 9', 'forward 4', 'down 5', 'forward 2', 'down 9', 'down 5', 'up 7', 'forward 3', 'down 8', 'forward 7', 'forward 9', 'down 5', 'forward 2', 'forward 9', 'forward 5', 'down 5', 'up 4', 'down 6', 'down 6', 'forward 8', 'forward 5', 'forward 4', 'down 5', 'forward 2', 'down 8', 'forward 9', 'down 1', 'down 8', 'down 7', 'up 9', 'down 7', 'down 1', 'forward 7', 'forward 9', 'forward 8', 'up 2', 'forward 6', 'down 3', 'down 6', 'up 4', 'forward 4', 'forward 5', 'down 9', 'down 5', 'forward 1', 'down 2', 'forward 1', 'down 1', 'up 1', 'up 7', 'up 5', 'forward 6', 'forward 3']\n"
     ]
    }
   ],
   "source": [
    "with open('input.txt') as f:\n",
    "    data = f.read().split('\\n')\n",
    "print(data)"
   ]
  },
  {
   "cell_type": "code",
   "execution_count": 13,
   "id": "8adafe5a",
   "metadata": {},
   "outputs": [
    {
     "name": "stdout",
     "output_type": "stream",
     "text": [
      "1840243\n"
     ]
    }
   ],
   "source": [
    "depth = 0\n",
    "hor = 0\n",
    "for x in data:\n",
    "    inst = x.split(' ')\n",
    "    inst[1] = int(inst[1])\n",
    "    if inst[0].startswith('f'):\n",
    "        hor += inst[1]\n",
    "    if inst[0].startswith('d'):\n",
    "        depth += inst[1]\n",
    "    if inst[0].startswith('u'):\n",
    "        depth -= inst[1]\n",
    "print(depth * hor)"
   ]
  },
  {
   "cell_type": "code",
   "execution_count": 14,
   "id": "8409e144",
   "metadata": {},
   "outputs": [
    {
     "name": "stdout",
     "output_type": "stream",
     "text": [
      "1727785422\n"
     ]
    }
   ],
   "source": [
    "depth = 0\n",
    "hor = 0\n",
    "aim = 0\n",
    "for x in data:\n",
    "    inst = x.split(' ')\n",
    "    inst[1] = int(inst[1])\n",
    "    if inst[0].startswith('f'):\n",
    "        hor += inst[1]\n",
    "        depth += aim*inst[1]\n",
    "    if inst[0].startswith('d'):\n",
    "        aim += inst[1]\n",
    "    if inst[0].startswith('u'):\n",
    "        aim -= inst[1]\n",
    "print(depth * hor)"
   ]
  },
  {
   "cell_type": "code",
   "execution_count": null,
   "id": "52d3bcf1",
   "metadata": {},
   "outputs": [],
   "source": []
  }
 ],
 "metadata": {
  "kernelspec": {
   "display_name": "Python 3",
   "language": "python",
   "name": "python3"
  },
  "language_info": {
   "codemirror_mode": {
    "name": "ipython",
    "version": 3
   },
   "file_extension": ".py",
   "mimetype": "text/x-python",
   "name": "python",
   "nbconvert_exporter": "python",
   "pygments_lexer": "ipython3",
   "version": "3.7.10"
  }
 },
 "nbformat": 4,
 "nbformat_minor": 5
}
