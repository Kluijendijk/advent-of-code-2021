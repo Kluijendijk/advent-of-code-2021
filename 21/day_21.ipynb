{
 "cells": [
  {
   "cell_type": "code",
   "execution_count": 10,
   "id": "082d4cdc",
   "metadata": {
    "scrolled": true
   },
   "outputs": [
    {
     "ename": "ImportError",
     "evalue": "cannot import name 'cache' from 'functools' (C:\\ProgramData\\Miniconda3\\envs\\spy\\lib\\functools.py)",
     "output_type": "error",
     "traceback": [
      "\u001b[1;31m---------------------------------------------------------------------------\u001b[0m",
      "\u001b[1;31mImportError\u001b[0m                               Traceback (most recent call last)",
      "\u001b[1;32m<ipython-input-10-400ca9aa9a10>\u001b[0m in \u001b[0;36m<module>\u001b[1;34m\u001b[0m\n\u001b[0;32m      1\u001b[0m \u001b[1;32mimport\u001b[0m \u001b[0mre\u001b[0m\u001b[1;33m\u001b[0m\u001b[1;33m\u001b[0m\u001b[0m\n\u001b[1;32m----> 2\u001b[1;33m \u001b[1;32mfrom\u001b[0m \u001b[0mfunctools\u001b[0m \u001b[1;32mimport\u001b[0m \u001b[0mcache\u001b[0m\u001b[1;33m\u001b[0m\u001b[1;33m\u001b[0m\u001b[0m\n\u001b[0m",
      "\u001b[1;31mImportError\u001b[0m: cannot import name 'cache' from 'functools' (C:\\ProgramData\\Miniconda3\\envs\\spy\\lib\\functools.py)"
     ]
    }
   ],
   "source": [
    "import re\n",
    "import functools"
   ]
  },
  {
   "cell_type": "code",
   "execution_count": 11,
   "id": "1f4c6df6",
   "metadata": {
    "scrolled": false
   },
   "outputs": [
    {
     "name": "stdout",
     "output_type": "stream",
     "text": [
      "10\n",
      "6\n"
     ]
    }
   ],
   "source": [
    "with open(\"input.txt\") as f:\n",
    "    p1o, p2o = [int(re.findall(r\"(\\d+).*?(\\d+)\", x)[0][1]) for x in f.read().split('\\n')]\n",
    "\n",
    "print(p1o)\n",
    "print(p2o)"
   ]
  },
  {
   "cell_type": "code",
   "execution_count": 12,
   "id": "97d598ed",
   "metadata": {
    "scrolled": false
   },
   "outputs": [
    {
     "name": "stdout",
     "output_type": "stream",
     "text": [
      "1006 901 999\n"
     ]
    }
   ],
   "source": [
    "def deterministic_die(n=100):\n",
    "    while True:\n",
    "        for i in range(1,n+1):\n",
    "            yield i\n",
    "\n",
    "p1, p2 = p1o, p2o\n",
    "mod = lambda x: (x-1)%10 + 1\n",
    "die = deterministic_die()\n",
    "p1s, p2s = 0, 0\n",
    "pm = 1\n",
    "p = p1\n",
    "rolls = 0\n",
    "while p1s < 1000 and p2s < 1000:\n",
    "    for _ in range(3):\n",
    "        p += next(die)\n",
    "        rolls += 1\n",
    "    p = mod(p)\n",
    "    if pm == 1:\n",
    "        p1 = p\n",
    "        p1s += p\n",
    "        p = p2\n",
    "        pm = 2\n",
    "    else:\n",
    "        p2 = p\n",
    "        p2s += p\n",
    "        p = p1\n",
    "        pm = 1\n",
    "print(p1s, p2s, rolls)"
   ]
  },
  {
   "cell_type": "code",
   "execution_count": 21,
   "id": "aaa32735",
   "metadata": {
    "scrolled": false
   },
   "outputs": [
    {
     "name": "stdout",
     "output_type": "stream",
     "text": [
      "(306719685234774, 145727874122839)\n"
     ]
    }
   ],
   "source": [
    "p1, p2  = p1o, p2o\n",
    "die_options = [(3,1),(4,3),(5,6),(6,7),(7,6),(8,3),(9,1)]\n",
    "\n",
    "@functools.lru_cache(maxsize=None)\n",
    "def outcomes(p1spot, p2spot, p1score=0, p2score=0):\n",
    "    if p2score >= 21:\n",
    "        return 0, 1\n",
    "    p1wins, p2wins, = 0, 0\n",
    "    for roll, degen in die_options:\n",
    "        _p1spot = mod(p1spot+roll)\n",
    "        w2, w1 = outcomes(p2spot, _p1spot, p1score=p2score, p2score=p1score + _p1spot)\n",
    "        p1wins += w1 * degen\n",
    "        p2wins += w2 * degen\n",
    "    return p1wins, p2wins\n",
    "\n",
    "print(outcomes(p1, p2))"
   ]
  },
  {
   "cell_type": "code",
   "execution_count": null,
   "id": "ffadd686",
   "metadata": {},
   "outputs": [],
   "source": []
  },
  {
   "cell_type": "code",
   "execution_count": null,
   "id": "8477b0b4",
   "metadata": {},
   "outputs": [],
   "source": []
  },
  {
   "cell_type": "code",
   "execution_count": null,
   "id": "f7156bb5",
   "metadata": {},
   "outputs": [],
   "source": []
  }
 ],
 "metadata": {
  "kernelspec": {
   "display_name": "Python 3",
   "language": "python",
   "name": "python3"
  },
  "language_info": {
   "codemirror_mode": {
    "name": "ipython",
    "version": 3
   },
   "file_extension": ".py",
   "mimetype": "text/x-python",
   "name": "python",
   "nbconvert_exporter": "python",
   "pygments_lexer": "ipython3",
   "version": "3.7.10"
  }
 },
 "nbformat": 4,
 "nbformat_minor": 5
}
