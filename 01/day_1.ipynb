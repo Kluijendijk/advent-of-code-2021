{
 "cells": [
  {
   "cell_type": "code",
   "execution_count": 21,
   "id": "0ce435e0",
   "metadata": {},
   "outputs": [
    {
     "name": "stdout",
     "output_type": "stream",
     "text": [
      "1167\n"
     ]
    }
   ],
   "source": [
    "import numpy as np\n",
    "with open('input.txt') as f:\n",
    "    data = np.array([int(x) for x in f.read().split('\\n')])\n",
    "    \n",
    "count = 0\n",
    "for i in range(1, len(data)):\n",
    "    if data[i] > data[i-1]:\n",
    "        count += 1\n",
    "print(count)"
   ]
  },
  {
   "cell_type": "code",
   "execution_count": 22,
   "id": "5099fa80",
   "metadata": {},
   "outputs": [
    {
     "name": "stdout",
     "output_type": "stream",
     "text": [
      "1130\n"
     ]
    }
   ],
   "source": [
    "roll1 = np.roll(data, -1)\n",
    "roll2 = np.roll(data, -2)\n",
    "sliding_window = roll1[:-2] + roll2[:-2] + data[:-2]\n",
    "\n",
    "count2 = 0\n",
    "for i in range(1, len(sliding_window)):\n",
    "    if sliding_window[i] > sliding_window[i-1]:\n",
    "        count2 += 1\n",
    "print(count2)"
   ]
  },
  {
   "cell_type": "code",
   "execution_count": null,
   "id": "6fd02eb9",
   "metadata": {},
   "outputs": [],
   "source": []
  }
 ],
 "metadata": {
  "kernelspec": {
   "display_name": "Python 3",
   "language": "python",
   "name": "python3"
  },
  "language_info": {
   "codemirror_mode": {
    "name": "ipython",
    "version": 3
   },
   "file_extension": ".py",
   "mimetype": "text/x-python",
   "name": "python",
   "nbconvert_exporter": "python",
   "pygments_lexer": "ipython3",
   "version": "3.7.10"
  }
 },
 "nbformat": 4,
 "nbformat_minor": 5
}
