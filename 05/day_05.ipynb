{
 "cells": [
  {
   "cell_type": "code",
   "execution_count": 50,
   "id": "082d4cdc",
   "metadata": {},
   "outputs": [],
   "source": [
    "import numpy as np\n",
    "with open('input.txt') as f:\n",
    "    data = [x.split(' -> ') for x in f.read().split('\\n')]\n",
    "data = np.array([[list(map(int, y.split(','))) for y in x] for x in data])\n",
    "#data\n"
   ]
  },
  {
   "cell_type": "code",
   "execution_count": 28,
   "id": "04f24583",
   "metadata": {
    "scrolled": false
   },
   "outputs": [
    {
     "name": "stdout",
     "output_type": "stream",
     "text": [
      "5373\n"
     ]
    }
   ],
   "source": [
    "# part one:\n",
    "grid = np.zeros((np.max(data[:,:,0])+1, np.max(data[:,:,1])+1))\n",
    "for v in range(data.shape[0]):\n",
    "    #horizontal:\n",
    "    if data[v, 0, 0] == data[v, 1, 0]:\n",
    "        start = data[v, 0, 1]\n",
    "        end = data[v, 1, 1]\n",
    "        x = data[v, 0, 0]\n",
    "        if end < start:\n",
    "            start, end = end, start\n",
    "        for y in range(start, end+1):\n",
    "            grid[x, y] += 1\n",
    "    #vertical:\n",
    "    if data[v, 0, 1] == data[v, 1, 1]:\n",
    "        start = data[v, 0, 0]\n",
    "        end = data[v, 1, 0]\n",
    "        if end < start:\n",
    "            start, end = end, start\n",
    "        y = data[v, 0, 1]\n",
    "        for x in range(start, end+1):\n",
    "            grid[x, y] += 1\n",
    "print(grid.T)\n",
    "print(np.sum(grid>1))"
   ]
  },
  {
   "cell_type": "code",
   "execution_count": 51,
   "id": "54263ffa",
   "metadata": {},
   "outputs": [
    {
     "name": "stdout",
     "output_type": "stream",
     "text": [
      "[[0. 0. 0. ... 0. 0. 0.]\n",
      " [0. 0. 0. ... 0. 0. 0.]\n",
      " [0. 0. 0. ... 0. 0. 0.]\n",
      " ...\n",
      " [0. 0. 0. ... 0. 0. 0.]\n",
      " [0. 0. 0. ... 0. 0. 0.]\n",
      " [0. 0. 0. ... 0. 0. 0.]]\n",
      "21514\n"
     ]
    }
   ],
   "source": [
    "#part2\n",
    "grid = np.zeros((np.max(data[:,:,0])+1, np.max(data[:,:,1])+1))\n",
    "for v in range(data.shape[0]):\n",
    "    #horizontal:\n",
    "    if data[v, 0, 0] == data[v, 1, 0]:\n",
    "        start = data[v, 0, 1]\n",
    "        end = data[v, 1, 1]\n",
    "        x = data[v, 0, 0]\n",
    "        if end < start:\n",
    "            start, end = end, start\n",
    "        for y in range(start, end+1):\n",
    "            grid[x, y] += 1\n",
    "        continue\n",
    "    #vertical:\n",
    "    if data[v, 0, 1] == data[v, 1, 1]:\n",
    "        start = data[v, 0, 0]\n",
    "        end = data[v, 1, 0]\n",
    "        if end < start:\n",
    "            start, end = end, start\n",
    "        y = data[v, 0, 1]\n",
    "        for x in range(start, end+1):\n",
    "            grid[x, y] += 1\n",
    "        continue\n",
    "    #diagonal:\n",
    "    n_steps = np.abs(data[v, 0, 0] - data[v, 1, 0])\n",
    "    \n",
    "    xs = np.linspace(data[v, 0, 0], data[v, 1, 0], n_steps+1, dtype=int)\n",
    "    ys = np.linspace(data[v, 0, 1], data[v, 1, 1], n_steps+1, dtype=int)\n",
    "    grid[xs, ys] += 1\n",
    "    \n",
    "print(grid.T)\n",
    "print(np.sum(grid>1))"
   ]
  },
  {
   "cell_type": "code",
   "execution_count": null,
   "id": "24bc0b84",
   "metadata": {},
   "outputs": [],
   "source": []
  },
  {
   "cell_type": "code",
   "execution_count": null,
   "id": "d29cf949",
   "metadata": {},
   "outputs": [],
   "source": []
  }
 ],
 "metadata": {
  "kernelspec": {
   "display_name": "Python 3",
   "language": "python",
   "name": "python3"
  },
  "language_info": {
   "codemirror_mode": {
    "name": "ipython",
    "version": 3
   },
   "file_extension": ".py",
   "mimetype": "text/x-python",
   "name": "python",
   "nbconvert_exporter": "python",
   "pygments_lexer": "ipython3",
   "version": "3.7.10"
  }
 },
 "nbformat": 4,
 "nbformat_minor": 5
}
