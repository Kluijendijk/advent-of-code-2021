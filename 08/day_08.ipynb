{
 "cells": [
  {
   "cell_type": "code",
   "execution_count": 53,
   "id": "082d4cdc",
   "metadata": {
    "scrolled": true
   },
   "outputs": [],
   "source": [
    "with open('input.txt') as f:\n",
    "    data = [x.split(' | ') for x in f.read().split('\\n')]"
   ]
  },
  {
   "cell_type": "code",
   "execution_count": 23,
   "id": "54263ffa",
   "metadata": {},
   "outputs": [
    {
     "data": {
      "text/plain": [
       "352"
      ]
     },
     "execution_count": 23,
     "metadata": {},
     "output_type": "execute_result"
    }
   ],
   "source": [
    "unique_lens = [2,3,4,7]\n",
    "def pt1(inp):\n",
    "    count = 0\n",
    "    for i in inp:\n",
    "        info, code = i\n",
    "        info = info.split(' '); code = code.split(' ')\n",
    "        for j in code:\n",
    "            if len(j) in unique_lens: #and j in info:\n",
    "                count += 1\n",
    "                \n",
    "    return count\n",
    "\n",
    "pt1(data)\n",
    "                \n",
    "    \n",
    "    \n",
    "    "
   ]
  },
  {
   "cell_type": "code",
   "execution_count": 54,
   "id": "80614a4f",
   "metadata": {},
   "outputs": [
    {
     "data": {
      "text/plain": [
       "936117"
      ]
     },
     "execution_count": 54,
     "metadata": {},
     "output_type": "execute_result"
    }
   ],
   "source": [
    "def get_numbs(inp):\n",
    "    out = 0\n",
    "    for i in inp:\n",
    "        info, code = i\n",
    "        info = info.split(' '); code = code.split(' ')\n",
    "        out += get_code(info, code)\n",
    "    return out\n",
    "\n",
    "def get_code(info, code):\n",
    "    info = [\"\".join(sorted(x)) for x in info]\n",
    "    code = [\"\".join(sorted(x)) for x in code]\n",
    "    vals = dict()\n",
    "    fives = []\n",
    "    sixes = []\n",
    "    #take known values:\n",
    "    for num in info:\n",
    "        if len(num) == 2:\n",
    "            vals[num] = 1\n",
    "            one = set(num)\n",
    "        if len(num) == 3:\n",
    "            vals[num] = 7\n",
    "        if len(num) == 4:\n",
    "            vals[num] = 4\n",
    "            four = set(num)\n",
    "        if len(num) == 7:\n",
    "            vals[num] = 8\n",
    "        if len(num) == 5:\n",
    "            fives += [num] #2, 3, 5\n",
    "        if len(num) == 6:\n",
    "            sixes += [num] #0, 6, 9\n",
    "            \n",
    "    for num in fives:\n",
    "        if len(set.intersection(one, set(num))) == 2: #3\n",
    "            vals[num] = 3\n",
    "        elif len(set.intersection(four, set(num))) == 3: #5\n",
    "            vals[num] = 5\n",
    "        else: #2\n",
    "            vals[num] = 2\n",
    "    for num in sixes:\n",
    "        if len(set.intersection(four, set(num))) == 4: #9\n",
    "            vals[num]=  9\n",
    "        elif len(set.intersection(one, set(num))) == 2: #0\n",
    "            vals[num]= 0\n",
    "        else:\n",
    "            vals[num] = 6\n",
    "    out = \"\"\n",
    "    for val in code:\n",
    "        out += str(vals[val])\n",
    "    return int(out)\n",
    "    \n",
    "get_numbs(data)    "
   ]
  },
  {
   "cell_type": "code",
   "execution_count": null,
   "id": "97d598ed",
   "metadata": {},
   "outputs": [],
   "source": []
  }
 ],
 "metadata": {
  "kernelspec": {
   "display_name": "Python 3",
   "language": "python",
   "name": "python3"
  },
  "language_info": {
   "codemirror_mode": {
    "name": "ipython",
    "version": 3
   },
   "file_extension": ".py",
   "mimetype": "text/x-python",
   "name": "python",
   "nbconvert_exporter": "python",
   "pygments_lexer": "ipython3",
   "version": "3.7.10"
  }
 },
 "nbformat": 4,
 "nbformat_minor": 5
}
