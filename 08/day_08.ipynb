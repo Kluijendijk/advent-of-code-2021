{
 "cells": [
  {
   "cell_type": "code",
   "execution_count": 48,
   "id": "082d4cdc",
   "metadata": {
    "scrolled": true
   },
   "outputs": [],
   "source": [
    "with open('sample.txt') as f:\n",
    "    data = [x.split(' | ') for x in f.read().split('\\n')]"
   ]
  },
  {
   "cell_type": "code",
   "execution_count": null,
   "id": "04f24583",
   "metadata": {
    "scrolled": false
   },
   "outputs": [],
   "source": []
  },
  {
   "cell_type": "code",
   "execution_count": 23,
   "id": "54263ffa",
   "metadata": {},
   "outputs": [
    {
     "data": {
      "text/plain": [
       "352"
      ]
     },
     "execution_count": 23,
     "metadata": {},
     "output_type": "execute_result"
    }
   ],
   "source": [
    "unique_lens = [2,3,4,7]\n",
    "def pt1(inp):\n",
    "    count = 0\n",
    "    for i in inp:\n",
    "        info, code = i\n",
    "        info = info.split(' '); code = code.split(' ')\n",
    "        for j in code:\n",
    "            if len(j) in unique_lens: #and j in info:\n",
    "                count += 1\n",
    "                \n",
    "    return count\n",
    "\n",
    "pt1(data)\n",
    "                \n",
    "    \n",
    "    \n",
    "    "
   ]
  },
  {
   "cell_type": "code",
   "execution_count": 50,
   "id": "80614a4f",
   "metadata": {},
   "outputs": [
    {
     "name": "stdout",
     "output_type": "stream",
     "text": [
      "{'be': 1, 'abcdefg': 8, 'bceg': 4, 'bde': 7, 'cdefg': 5, 'bcdef': 3, 'abcdf': 2, 'bcdefg': 4, 'acdefg': 6, 'abdefg': 0}\n",
      "{'bcg': 7, 'cg': 1, 'abcdefg': 8, 'cefg': 4, 'bcdeg': 3, 'bdefg': 5, 'abcde': 2, 'abdefg': 6, 'abcdfg': 0, 'bcdefg': 4}\n",
      "{'cg': 1, 'acfg': 4, 'bcg': 7, 'abcdefg': 8, 'abcde': 2, 'abdfg': 5, 'abcdg': 3, 'abdefg': 6, 'abcdfg': 4, 'bcdefg': 0}\n",
      "{'bcd': 7, 'abcf': 4, 'bc': 1, 'abcdefg': 8, 'abdeg': 2, 'acdef': 5, 'abcde': 3, 'bcdefg': 0, 'abcdef': 4, 'acdefg': 6}\n",
      "{'abcdefg': 8, 'bfg': 7, 'fg': 1, 'cefg': 4, 'abefg': 3, 'abdef': 2, 'abceg': 5, 'abcefg': 4, 'abcdeg': 6, 'abcdfg': 0}\n",
      "{'ac': 1, 'abcdefg': 8, 'abce': 4, 'acf': 7, 'abefg': 5, 'bcdfg': 2, 'abcfg': 3, 'abcefg': 4, 'acdefg': 0, 'abdefg': 6}\n",
      "{'dfg': 7, 'abcdefg': 8, 'cefg': 4, 'fg': 1, 'bcdfg': 3, 'bcdef': 5, 'abcdg': 2, 'abdefg': 0, 'abcdef': 6, 'bcdefg': 4}\n",
      "{'de': 1, 'bdef': 4, 'cde': 7, 'abcdefg': 8, 'bcefg': 5, 'abcdg': 2, 'bcdeg': 3, 'bcdefg': 4, 'abcefg': 6, 'acdefg': 0}\n",
      "{'cdeg': 4, 'bcg': 7, 'abcdefg': 8, 'cg': 1, 'abcef': 2, 'bdefg': 5, 'bcefg': 3, 'abdefg': 6, 'bcdefg': 4, 'abcdfg': 0}\n",
      "{'cfg': 7, 'abcdefg': 8, 'fg': 1, 'aefg': 4, 'abcfg': 3, 'abceg': 5, 'abcdf': 2, 'abcdeg': 6, 'abcefg': 4, 'bcdefg': 0}\n"
     ]
    },
    {
     "data": {
      "text/plain": [
       "51129"
      ]
     },
     "execution_count": 50,
     "metadata": {},
     "output_type": "execute_result"
    }
   ],
   "source": [
    "def get_numbs(inp):\n",
    "    out = 0\n",
    "    for i in inp:\n",
    "        info, code = i\n",
    "        info = info.split(' '); code = code.split(' ')\n",
    "        out += get_code(info, code)\n",
    "    return out\n",
    "\n",
    "def get_code(info, code):\n",
    "    info = [\"\".join(sorted(x)) for x in info]\n",
    "    code = [\"\".join(sorted(x)) for x in code]\n",
    "    vals = dict()\n",
    "    fives = []\n",
    "    sixes = []\n",
    "    #take known values:\n",
    "    for num in info:\n",
    "        if len(num) == 2:\n",
    "            vals[num] = 1\n",
    "            one = set(num)\n",
    "        if len(num) == 3:\n",
    "            vals[num] = 7\n",
    "        if len(num) == 4:\n",
    "            vals[num] = 4\n",
    "            four = set(num)\n",
    "        if len(num) == 7:\n",
    "            vals[num] = 8\n",
    "        if len(num) == 5:\n",
    "            fives += [num] #2, 3, 5\n",
    "        if len(num) == 6:\n",
    "            sixes += [num] #0, 6, 9\n",
    "            \n",
    "    for num in fives:\n",
    "        if len(set.intersection(one, set(num))) == 2: #3\n",
    "            vals[num] = 3\n",
    "        elif len(set.intersection(four, set(num))) == 3: #5\n",
    "            vals[num] = 5\n",
    "        else: #2\n",
    "            vals[num] = 2\n",
    "    for num in sixes:\n",
    "        if len(set.intersection(four, set(num))) == 4: #9\n",
    "            vals[num]=  4\n",
    "        elif len(set.intersection(one, set(num))) == 2: #0\n",
    "            vals[num]= 0\n",
    "        else:\n",
    "            vals[num] = 6\n",
    "    out = \"\"\n",
    "    print(code)\n",
    "    for val in code:\n",
    "        out += str(vals[val])\n",
    "    print(vals)\n",
    "    print\n",
    "    return int(out)\n",
    "    \n",
    "get_numbs(data)    "
   ]
  },
  {
   "cell_type": "code",
   "execution_count": 30,
   "id": "d885c188",
   "metadata": {},
   "outputs": [
    {
     "name": "stdout",
     "output_type": "stream",
     "text": [
      "abcdef\n"
     ]
    }
   ],
   "source": []
  },
  {
   "cell_type": "code",
   "execution_count": 35,
   "id": "9a8eb306",
   "metadata": {},
   "outputs": [
    {
     "data": {
      "text/plain": [
       "{'a', 'b'}"
      ]
     },
     "execution_count": 35,
     "metadata": {},
     "output_type": "execute_result"
    }
   ],
   "source": [
    "set.intersection(set(\"abc\"),set(\"ab\"))"
   ]
  },
  {
   "cell_type": "code",
   "execution_count": null,
   "id": "27e5cf88",
   "metadata": {},
   "outputs": [],
   "source": []
  }
 ],
 "metadata": {
  "kernelspec": {
   "display_name": "Python 3",
   "language": "python",
   "name": "python3"
  },
  "language_info": {
   "codemirror_mode": {
    "name": "ipython",
    "version": 3
   },
   "file_extension": ".py",
   "mimetype": "text/x-python",
   "name": "python",
   "nbconvert_exporter": "python",
   "pygments_lexer": "ipython3",
   "version": "3.7.10"
  }
 },
 "nbformat": 4,
 "nbformat_minor": 5
}
