{
 "cells": [
  {
   "cell_type": "code",
   "execution_count": 50,
   "id": "68361ca3",
   "metadata": {
    "scrolled": true
   },
   "outputs": [
    {
     "name": "stdout",
     "output_type": "stream",
     "text": [
      "[[0 0 1 0 0]\n",
      " [1 1 1 1 0]\n",
      " [1 0 1 1 0]\n",
      " [1 0 1 1 1]\n",
      " [1 0 1 0 1]\n",
      " [0 1 1 1 1]\n",
      " [0 0 1 1 1]\n",
      " [1 1 1 0 0]\n",
      " [1 0 0 0 0]\n",
      " [1 1 0 0 1]\n",
      " [0 0 0 1 0]\n",
      " [0 1 0 1 0]]\n"
     ]
    }
   ],
   "source": [
    "import numpy as np\n",
    "\n",
    "with open('sample_input.txt') as f:\n",
    "    data = np.array([[int(y) for y in list(x)] for x in f.read().split('\\n')])\n",
    "print(data)"
   ]
  },
  {
   "cell_type": "code",
   "execution_count": 51,
   "id": "df4b96ea",
   "metadata": {},
   "outputs": [
    {
     "name": "stdout",
     "output_type": "stream",
     "text": [
      "198\n"
     ]
    }
   ],
   "source": [
    "most_arr = (np.average(data, axis=0) > 0.5).astype(int)\n",
    "most = \"\"\n",
    "least_arr = (np.average(data, axis=0) < 0.5).astype(int)\n",
    "least = \"\"\n",
    "\n",
    "for i in range(most_arr.size):\n",
    "    most += str(most_arr[i])\n",
    "    least += str(least_arr[i])\n",
    "gamma = int(most, 2)\n",
    "epsilon = int(least, 2)\n",
    "print(gamma * epsilon)"
   ]
  },
  {
   "cell_type": "code",
   "execution_count": 68,
   "id": "b5487498",
   "metadata": {
    "scrolled": false
   },
   "outputs": [
    {
     "name": "stdout",
     "output_type": "stream",
     "text": [
      "[[1 1 1 1 0]\n",
      " [1 0 1 1 0]\n",
      " [1 0 1 1 1]\n",
      " [1 0 1 0 1]\n",
      " [1 1 1 0 0]\n",
      " [1 0 0 0 0]\n",
      " [1 1 0 0 1]]\n",
      "[[1 0 1 1 0]\n",
      " [1 0 1 1 1]\n",
      " [1 0 1 0 1]\n",
      " [1 0 0 0 0]]\n",
      "[[1 0 1 1 0]\n",
      " [1 0 1 1 1]\n",
      " [1 0 1 0 1]]\n",
      "[[1 0 1 1 0]\n",
      " [1 0 1 1 1]]\n",
      "[[1 0 1 1 1]]\n"
     ]
    }
   ],
   "source": [
    "o2_arr = data.copy()\n",
    "co2_arr = data.copy()\n",
    "o2_valid = np.ones(o2_arr.shape[0]).astype(bool)\n",
    "co2_valid = o2_valid.copy()\n",
    "\n",
    "ind = 0\n",
    "\n",
    "while(o2_arr.shape[0] > 1 or co2_arr.shape[0] > 1):\n",
    "    #o2:\n",
    "    if o2_arr.shape[0] > 1:\n",
    "        most_o2 = np.sum(o2_arr, axis=0)\n",
    "        if 2*most_o2[ind] < o2_arr.shape[0]:\n",
    "            most_o2 = 0\n",
    "        else:\n",
    "            most_o2 = 1\n",
    "        o2_arr = o2_arr[np.where(most_o2 == o2_arr[:, ind])]\n",
    "        print(o2_arr)\n",
    "    #co2\n",
    "    if co2_arr.shape[0] > 1:\n",
    "        most_co2 = np.sum(co2_arr, axis=0)\n",
    "        if 2*most_co2[ind] >= co2_arr.shape[0]:\n",
    "            most_co2 = 0\n",
    "        else:\n",
    "            most_co2 = 1\n",
    "        co2_arr = co2_arr[np.where(most_co2 == co2_arr[:, ind])]\n",
    "    ind += 1\n",
    "o2 = 0\n",
    "co2 = 0\n",
    "for i in range(o2_arr.size):\n",
    "    o2 += str(o2_arr[i])\n",
    "    co2 += str(co2_arr[i])\n",
    "o2 = int(o2,)"
   ]
  },
  {
   "cell_type": "code",
   "execution_count": 63,
   "id": "1aa1d9be",
   "metadata": {},
   "outputs": [
    {
     "data": {
      "text/plain": [
       "(12, 5)"
      ]
     },
     "execution_count": 63,
     "metadata": {},
     "output_type": "execute_result"
    }
   ],
   "source": []
  },
  {
   "cell_type": "code",
   "execution_count": null,
   "id": "f31751d9",
   "metadata": {},
   "outputs": [],
   "source": []
  }
 ],
 "metadata": {
  "kernelspec": {
   "display_name": "Python 3",
   "language": "python",
   "name": "python3"
  },
  "language_info": {
   "codemirror_mode": {
    "name": "ipython",
    "version": 3
   },
   "file_extension": ".py",
   "mimetype": "text/x-python",
   "name": "python",
   "nbconvert_exporter": "python",
   "pygments_lexer": "ipython3",
   "version": "3.7.10"
  }
 },
 "nbformat": 4,
 "nbformat_minor": 5
}
