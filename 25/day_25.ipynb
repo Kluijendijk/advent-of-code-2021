{
 "cells": [
  {
   "cell_type": "code",
   "execution_count": 11,
   "id": "682679d8",
   "metadata": {
    "scrolled": true
   },
   "outputs": [
    {
     "name": "stdout",
     "output_type": "stream",
     "text": [
      "[['.' '.' '>' ... 'v' '.' '>']\n",
      " ['v' 'v' 'v' ... 'v' '.' '.']\n",
      " ['.' '.' 'v' ... '.' '.' 'v']\n",
      " ...\n",
      " ['.' '.' '.' ... 'v' 'v' '.']\n",
      " ['v' 'v' '.' ... '.' '.' 'v']\n",
      " ['.' '.' '.' ... 'v' 'v' '.']]\n"
     ]
    }
   ],
   "source": [
    "import numpy as np\n",
    "import re\n",
    "import functools\n",
    "\n",
    "with open(\"input.txt\") as f:\n",
    "    data = np.array([list(x) for x in f.read().split('\\n')])\n",
    "\n",
    "print(data)"
   ]
  },
  {
   "cell_type": "code",
   "execution_count": 12,
   "id": "4649f60a",
   "metadata": {
    "scrolled": true
   },
   "outputs": [
    {
     "name": "stdout",
     "output_type": "stream",
     "text": [
      "453\n"
     ]
    }
   ],
   "source": [
    "def move(grid):\n",
    "    leftroll = np.roll(grid,  1, axis=1)\n",
    "    righroll = np.roll(grid, -1, axis=1)\n",
    "    nxt = grid.copy()\n",
    "    nxt[(grid == '.') & (leftroll == '>')] = '>'\n",
    "    nxt[(grid == '>') & (righroll == '.')] = '.'\n",
    "    downroll = np.roll(nxt,  1, axis=0)\n",
    "    uppproll = np.roll(nxt, -1, axis=0)\n",
    "    left = nxt.copy()\n",
    "    nxt[(left == '.') & (downroll == 'v')] = 'v'\n",
    "    nxt[(left == 'v') & (uppproll == '.')] = '.'\n",
    "    return nxt, (nxt==grid).all()\n",
    "\n",
    "step = 0\n",
    "done = False\n",
    "grid = data.copy()\n",
    "while(not done):\n",
    "    grid, done = move(grid)\n",
    "    step += 1\n",
    "print(step)\n",
    "\n",
    "\n"
   ]
  },
  {
   "cell_type": "code",
   "execution_count": 3,
   "id": "9569fd48",
   "metadata": {},
   "outputs": [
    {
     "data": {
      "text/plain": [
       "11"
      ]
     },
     "execution_count": 3,
     "metadata": {},
     "output_type": "execute_result"
    }
   ],
   "source": [
    "(11)%26"
   ]
  },
  {
   "cell_type": "code",
   "execution_count": 4,
   "id": "7dd7f9a4",
   "metadata": {},
   "outputs": [
    {
     "data": {
      "text/plain": [
       "matrix([[1, 2, 3],\n",
       "        [4, 5, 6],\n",
       "        [7, 8, 9]])"
      ]
     },
     "execution_count": 4,
     "metadata": {},
     "output_type": "execute_result"
    }
   ],
   "source": [
    "A = np.matrix(\"1 2 3 ; 4 5 6 ; 7 8 9\")\n",
    "A"
   ]
  },
  {
   "cell_type": "code",
   "execution_count": 5,
   "id": "b1d4e9b1",
   "metadata": {},
   "outputs": [
    {
     "data": {
      "text/plain": [
       "matrix([[7, 8, 9],\n",
       "        [1, 2, 3],\n",
       "        [4, 5, 6]])"
      ]
     },
     "execution_count": 5,
     "metadata": {},
     "output_type": "execute_result"
    }
   ],
   "source": [
    "np.roll(A, 1, axis=0)"
   ]
  },
  {
   "cell_type": "code",
   "execution_count": 6,
   "id": "c5db541c",
   "metadata": {},
   "outputs": [
    {
     "data": {
      "text/plain": [
       "matrix([[4, 5, 6],\n",
       "        [7, 8, 9],\n",
       "        [1, 2, 3]])"
      ]
     },
     "execution_count": 6,
     "metadata": {},
     "output_type": "execute_result"
    }
   ],
   "source": [
    "np.roll(A, -1, axis=0)"
   ]
  },
  {
   "cell_type": "code",
   "execution_count": 7,
   "id": "0e538053",
   "metadata": {},
   "outputs": [
    {
     "data": {
      "text/plain": [
       "matrix([[3, 1, 2],\n",
       "        [6, 4, 5],\n",
       "        [9, 7, 8]])"
      ]
     },
     "execution_count": 7,
     "metadata": {},
     "output_type": "execute_result"
    }
   ],
   "source": [
    "np.roll(A, 1, axis=1)"
   ]
  },
  {
   "cell_type": "code",
   "execution_count": 8,
   "id": "40dcb087",
   "metadata": {},
   "outputs": [
    {
     "data": {
      "text/plain": [
       "matrix([[2, 3, 1],\n",
       "        [5, 6, 4],\n",
       "        [8, 9, 7]])"
      ]
     },
     "execution_count": 8,
     "metadata": {},
     "output_type": "execute_result"
    }
   ],
   "source": [
    "np.roll(A, -1, axis=1)"
   ]
  },
  {
   "cell_type": "code",
   "execution_count": null,
   "id": "b3a2e772",
   "metadata": {},
   "outputs": [],
   "source": []
  }
 ],
 "metadata": {
  "kernelspec": {
   "display_name": "Python 3",
   "language": "python",
   "name": "python3"
  },
  "language_info": {
   "codemirror_mode": {
    "name": "ipython",
    "version": 3
   },
   "file_extension": ".py",
   "mimetype": "text/x-python",
   "name": "python",
   "nbconvert_exporter": "python",
   "pygments_lexer": "ipython3",
   "version": "3.7.10"
  }
 },
 "nbformat": 4,
 "nbformat_minor": 5
}
