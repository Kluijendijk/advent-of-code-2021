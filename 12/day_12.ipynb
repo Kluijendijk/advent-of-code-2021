{
 "cells": [
  {
   "cell_type": "code",
   "execution_count": 1,
   "id": "082d4cdc",
   "metadata": {
    "scrolled": true
   },
   "outputs": [
    {
     "data": {
      "text/plain": [
       "['RT-start',\n",
       " 'bp-sq',\n",
       " 'em-bp',\n",
       " 'end-em',\n",
       " 'to-MW',\n",
       " 'to-VK',\n",
       " 'RT-bp',\n",
       " 'start-MW',\n",
       " 'to-hr',\n",
       " 'sq-AR',\n",
       " 'RT-hr',\n",
       " 'bp-to',\n",
       " 'hr-VK',\n",
       " 'st-VK',\n",
       " 'sq-end',\n",
       " 'MW-sq',\n",
       " 'to-RT',\n",
       " 'em-er',\n",
       " 'bp-hr',\n",
       " 'MW-em',\n",
       " 'st-bp',\n",
       " 'to-start',\n",
       " 'em-st',\n",
       " 'st-end',\n",
       " 'VK-sq',\n",
       " 'hr-st']"
      ]
     },
     "execution_count": 1,
     "metadata": {},
     "output_type": "execute_result"
    }
   ],
   "source": [
    "import numpy as np\n",
    "with open('input.txt') as f:\n",
    "    data = f.read().split('\\n')\n",
    "data"
   ]
  },
  {
   "cell_type": "code",
   "execution_count": 4,
   "id": "54263ffa",
   "metadata": {
    "scrolled": true
   },
   "outputs": [],
   "source": [
    "class Node:\n",
    "    connections = set()\n",
    "    big = False\n",
    "    name = ''\n",
    "    intname = 0\n",
    "    \n",
    "    def __init__(self, name, nxt=None):\n",
    "        self.connections = set()\n",
    "        self.name = name\n",
    "        if nxt:\n",
    "            self.connections.add(nxt)\n",
    "        self.big = not name.islower()\n",
    "        intname = int(\"\".join([str(ord(x)).zfill(2) for x in name]))\n",
    "    \n",
    "    def add_connection(self, other):\n",
    "        if other:\n",
    "            self.connections.add(other)\n",
    "        \n",
    "    def __str__(self):\n",
    "        return self.name\n",
    "    \n",
    "    def __hash__(self):\n",
    "        return self.intname\n",
    "    \n",
    "    def __eq__(self, other):\n",
    "        if not other:\n",
    "            return False\n",
    "        return self.name == other.name\n",
    "    \n",
    "    def __ne__(self, other):\n",
    "        return not self.__eq__(other)"
   ]
  },
  {
   "cell_type": "code",
   "execution_count": 5,
   "id": "80614a4f",
   "metadata": {
    "scrolled": true
   },
   "outputs": [
    {
     "name": "stdout",
     "output_type": "stream",
     "text": [
      "3463\n"
     ]
    }
   ],
   "source": [
    "#part 1\n",
    "start = Node('start')\n",
    "end = Node('end')\n",
    "nodes = {'start': start, 'end': end}\n",
    "\n",
    "for line in data:\n",
    "    to, fro = line.split('-')\n",
    "    if to in nodes:\n",
    "        to = nodes[to]\n",
    "    else:\n",
    "        to = Node(to)\n",
    "        nodes[to.name] = to\n",
    "    if fro in nodes:\n",
    "        fro = nodes[fro]\n",
    "    else:\n",
    "        fro = Node(fro)\n",
    "        nodes[fro.name] = fro\n",
    "    fro.add_connection(to)\n",
    "    to.add_connection(fro)\n",
    "\n",
    "paths = []\n",
    "\n",
    "def get_paths(cur, allpre):\n",
    "    '''generate all paths from cur to end'''\n",
    "    \n",
    "    paths = []\n",
    "    for node in cur.connections:\n",
    "        if not node.big and node in allpre:\n",
    "            continue\n",
    "        if node.name == 'end':\n",
    "            paths.append(allpre + [cur] + [end])\n",
    "        paths += get_paths(node, allpre+[cur])\n",
    "    \n",
    "    return paths \n",
    "\n",
    "paths = get_paths(start, [start])\n",
    "\n",
    "print(len(paths))"
   ]
  },
  {
   "cell_type": "code",
   "execution_count": 6,
   "id": "97d598ed",
   "metadata": {
    "scrolled": false
   },
   "outputs": [
    {
     "name": "stdout",
     "output_type": "stream",
     "text": [
      "91533\n"
     ]
    }
   ],
   "source": [
    "def get_paths_2(cur, allpre, twice_used):\n",
    "    '''generate all paths from cur to end'''\n",
    "    \n",
    "    paths = []\n",
    "    for node in cur.connections:\n",
    "        twice_used_nxt = twice_used\n",
    "        if not node.big and node in allpre:\n",
    "            if twice_used or node.name == 'start':\n",
    "                continue\n",
    "            else:\n",
    "                twice_used_nxt = True\n",
    "        if node.name == 'end':\n",
    "            paths.append(allpre + [cur] + [end])\n",
    "            continue\n",
    "        paths += get_paths_2(node, allpre+[cur], twice_used_nxt)\n",
    "    \n",
    "    return paths \n",
    "\n",
    "paths = get_paths_2(start, [], False)\n",
    "\n",
    "print(len(paths))"
   ]
  },
  {
   "cell_type": "code",
   "execution_count": null,
   "id": "aaa32735",
   "metadata": {},
   "outputs": [],
   "source": []
  },
  {
   "cell_type": "code",
   "execution_count": null,
   "id": "bb1b40e8",
   "metadata": {},
   "outputs": [],
   "source": []
  }
 ],
 "metadata": {
  "kernelspec": {
   "display_name": "Python 3",
   "language": "python",
   "name": "python3"
  },
  "language_info": {
   "codemirror_mode": {
    "name": "ipython",
    "version": 3
   },
   "file_extension": ".py",
   "mimetype": "text/x-python",
   "name": "python",
   "nbconvert_exporter": "python",
   "pygments_lexer": "ipython3",
   "version": "3.7.10"
  }
 },
 "nbformat": 4,
 "nbformat_minor": 5
}
