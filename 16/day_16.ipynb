{
 "cells": [
  {
   "cell_type": "code",
   "execution_count": 1,
   "id": "082d4cdc",
   "metadata": {
    "scrolled": true
   },
   "outputs": [],
   "source": [
    "import numpy as np\n",
    "\n",
    "with open('input.txt') as f:\n",
    "    data = f.read()\n",
    "data = \"\".join(format(int(x, 16),'04b') for x in data)"
   ]
  },
  {
   "cell_type": "code",
   "execution_count": 2,
   "id": "54263ffa",
   "metadata": {
    "scrolled": false
   },
   "outputs": [
    {
     "name": "stdout",
     "output_type": "stream",
     "text": [
      "solve: (16, ['1', '1', '1', '1']), packet sum: 16, val: ['1', '1', '1', '1']\n"
     ]
    }
   ],
   "source": [
    "#old part 1, edited a bit for part 2\n",
    "\n",
    "def solve_packet(s):\n",
    "    if not '1' in s:\n",
    "        return 0, ''\n",
    "    version = s[0:3]\n",
    "    type_id = s[3:6]\n",
    "    vsum = int(version, 2)\n",
    "    out = []\n",
    "    if type_id == \"100\":\n",
    "        ind = 6\n",
    "        while s[ind] == '1':\n",
    "            out += [s[ind+1:ind+5]]\n",
    "            ind += 5\n",
    "        out += s[ind+1:ind+5]\n",
    "        _vsum, _out = solve_packet(s[ind+5:])\n",
    "        vsum += _vsum\n",
    "        out  += _out\n",
    "        out = \"\".join(out)\n",
    "        \n",
    "    else:\n",
    "        len_type_id = s[6:7]\n",
    "        if len_type_id == '0':\n",
    "            L = int(s[7:22],2)\n",
    "            _vsum, _out = solve_packet(s[22:])\n",
    "            vsum += _vsum\n",
    "            out  += _out\n",
    "        elif len_type_id =='1':\n",
    "            n = int(s[7:18],2)\n",
    "            _vsum, _out = solve_packet(s[18:])\n",
    "            vsum += _vsum\n",
    "            out  += _out\n",
    "    return vsum, out\n",
    "tststr = \"8A004A801A8002F478\"\n",
    "tststr = \"\".join(format(int(x, 16),'04b') for x in tststr)\n",
    "solve = solve_packet(tststr)\n",
    "print(f\"solve: {solve}, packet sum: {solve[0]}, val: {solve[1]}\")"
   ]
  },
  {
   "cell_type": "code",
   "execution_count": 3,
   "id": "97d598ed",
   "metadata": {
    "scrolled": true
   },
   "outputs": [],
   "source": [
    "b2i = lambda x: int(x, 2)\n",
    "i2b = lambda x: format(x, '04b')\n",
    "dashes = ''\n",
    "#probably is an easier implementation to use a generator, but meh\n",
    "def parse(s):\n",
    "    global vsum\n",
    "    global ind\n",
    "    global dashes\n",
    "    #get version\n",
    "    vsum += b2i(s[ind:ind+3])\n",
    "    ind += 3\n",
    "    #get type id\n",
    "    tid = s[ind:ind+3]\n",
    "    ind += 3\n",
    "    \n",
    "    #if tid is 4, do fancy concat thingy\n",
    "    if tid == '100':\n",
    "        out = []\n",
    "        while True:\n",
    "            end, *bits = s[ind:ind+5]\n",
    "            ind += 5\n",
    "            out += bits\n",
    "            if end == '0':\n",
    "                break\n",
    "        #print(dashes, b2i(\"\".join(out)))\n",
    "        return b2i(\"\".join(out))\n",
    "    #get length type id:\n",
    "    lid = s[ind]\n",
    "    ind += 1\n",
    "    sp_vals = []\n",
    "    #if lid is 0, length is next 15 bits, so parse that length of the string\n",
    "    old_dashes = dashes\n",
    "    dashes = dashes + ' - '\n",
    "    if lid == '0':\n",
    "        L = b2i(s[ind:ind+15])\n",
    "        ind += 15\n",
    "        old_ind = ind\n",
    "        while old_ind + L > ind:\n",
    "            sp_vals += [parse(s)]\n",
    "    #else number of sub vals is next 11 bits, so parse until youve gotten that many values\n",
    "    else:\n",
    "        n = b2i(s[ind:ind+11])\n",
    "        ind += 11\n",
    "        sp_vals = [parse(s) for i in range(n)]\n",
    "    dashes = old_dashes\n",
    "    #print(dashes, tid, sp_vals)\n",
    "    \n",
    "    #if tid is 0 take sum\n",
    "    if tid == '000':\n",
    "        return sum(sp_vals)\n",
    "    #if tid is 1 take prod\n",
    "    if tid == '001':\n",
    "        #coded in python because numpy was overflowing :(\n",
    "        p = 1\n",
    "        for x in sp_vals:\n",
    "            p *= x\n",
    "        return int(p)\n",
    "    #if tid is 2 take min\n",
    "    if tid == '010':\n",
    "        return min(sp_vals)\n",
    "    #if tid is 3 take max\n",
    "    if tid == '011':\n",
    "        return max(sp_vals)\n",
    "    #if tid is 5 return >\n",
    "    if tid == '101':\n",
    "        return int(sp_vals[0] > sp_vals[1])\n",
    "    #if tid is 6 return <\n",
    "    if tid == '110':\n",
    "        return int(sp_vals[0] < sp_vals[1])\n",
    "    #if tid is 7 return ==\n",
    "    if tid == '111':\n",
    "        return int(sp_vals[0] == sp_vals[1])"
   ]
  },
  {
   "cell_type": "code",
   "execution_count": 4,
   "id": "aaa32735",
   "metadata": {
    "scrolled": true
   },
   "outputs": [
    {
     "name": "stdout",
     "output_type": "stream",
     "text": [
      "vsum: 969\n",
      "solve: 124921618408\n"
     ]
    }
   ],
   "source": [
    "vsum = 0\n",
    "ind = 0\n",
    "solve = parse(data)\n",
    "print(f\"vsum: {vsum}\")\n",
    "print(f\"solve: {(solve)}\")"
   ]
  }
 ],
 "metadata": {
  "kernelspec": {
   "display_name": "Python 3",
   "language": "python",
   "name": "python3"
  },
  "language_info": {
   "codemirror_mode": {
    "name": "ipython",
    "version": 3
   },
   "file_extension": ".py",
   "mimetype": "text/x-python",
   "name": "python",
   "nbconvert_exporter": "python",
   "pygments_lexer": "ipython3",
   "version": "3.7.10"
  }
 },
 "nbformat": 4,
 "nbformat_minor": 5
}
