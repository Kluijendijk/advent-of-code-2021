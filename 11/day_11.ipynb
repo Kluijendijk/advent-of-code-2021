{
 "cells": [
  {
   "cell_type": "code",
   "execution_count": 1,
   "id": "082d4cdc",
   "metadata": {
    "scrolled": true
   },
   "outputs": [
    {
     "data": {
      "text/plain": [
       "array([[1, 2, 2, 4, 3, 4, 6, 3, 8, 4],\n",
       "       [5, 6, 2, 1, 1, 2, 8, 5, 8, 7],\n",
       "       [6, 3, 8, 8, 4, 2, 6, 5, 4, 6],\n",
       "       [1, 5, 5, 6, 2, 4, 7, 7, 5, 6],\n",
       "       [1, 4, 5, 1, 8, 1, 1, 5, 7, 3],\n",
       "       [1, 8, 3, 2, 3, 8, 8, 1, 2, 2],\n",
       "       [2, 7, 4, 8, 5, 4, 5, 6, 4, 7],\n",
       "       [2, 5, 8, 2, 8, 7, 7, 4, 3, 2],\n",
       "       [3, 1, 8, 5, 6, 4, 3, 8, 7, 1],\n",
       "       [2, 2, 2, 4, 8, 7, 6, 6, 2, 7]], dtype=int64)"
      ]
     },
     "execution_count": 1,
     "metadata": {},
     "output_type": "execute_result"
    }
   ],
   "source": [
    "from collections import deque\n",
    "import numpy as np\n",
    "import re\n",
    "with open('input.txt') as f:\n",
    "    data = np.array([list(x) for x in f.read().split('\\n')], dtype=np.int64)\n",
    "data"
   ]
  },
  {
   "cell_type": "code",
   "execution_count": 2,
   "id": "54263ffa",
   "metadata": {
    "scrolled": true
   },
   "outputs": [
    {
     "name": "stdout",
     "output_type": "stream",
     "text": [
      "1591\n"
     ]
    }
   ],
   "source": [
    "steps = 100\n",
    "pt1 = data.copy()\n",
    "flashes = 0\n",
    "\n",
    "def increment_neighbors(arr, x, y):\n",
    "    x1 = max(x - 1, 0); y1 = max(y - 1, 0)\n",
    "    x2 = min(x + 1, arr.shape[0]) + 1\n",
    "    y2 = min(y + 1, arr.shape[0]) + 1\n",
    "    arr[x1:x2, y1:y2] += 1\n",
    "    arr[x, y] = int(-1e15)\n",
    "    return arr\n",
    "            \n",
    "for n in range(steps):\n",
    "    pt1 = pt1 + 1\n",
    "    while (pt1 > 9).any():\n",
    "        x, y = np.argwhere(pt1 > 9)[0]\n",
    "        pt1 = increment_neighbors(pt1, x, y)\n",
    "        flashes += 1\n",
    "    pt1[pt1 < 0] = 0\n",
    "print(flashes)\n"
   ]
  },
  {
   "cell_type": "code",
   "execution_count": 4,
   "id": "80614a4f",
   "metadata": {
    "scrolled": true
   },
   "outputs": [
    {
     "name": "stdout",
     "output_type": "stream",
     "text": [
      "314\n"
     ]
    }
   ],
   "source": [
    "pt2 = data.copy()\n",
    "step = 0\n",
    "def increment_neighbors(arr, x, y):\n",
    "    x1 = max(x - 1, 0); y1 = max(y - 1, 0)\n",
    "    x2 = min(x + 1, arr.shape[0]) + 1\n",
    "    y2 = min(y + 1, arr.shape[0]) + 1\n",
    "    arr[x1:x2, y1:y2] += 1\n",
    "    arr[x, y] = int(-1e15)\n",
    "    return arr\n",
    "            \n",
    "while (pt2 > 0).any():\n",
    "    step += 1\n",
    "    pt2 = pt2 + 1\n",
    "    while (pt2 > 9).any():\n",
    "        x, y = np.argwhere(pt2 > 9)[0]\n",
    "        pt1 = increment_neighbors(pt2, x, y)\n",
    "    pt2[pt2 < 0] = 0\n",
    "print(step)"
   ]
  },
  {
   "cell_type": "code",
   "execution_count": null,
   "id": "97d598ed",
   "metadata": {},
   "outputs": [],
   "source": []
  },
  {
   "cell_type": "code",
   "execution_count": null,
   "id": "aaa32735",
   "metadata": {},
   "outputs": [],
   "source": []
  }
 ],
 "metadata": {
  "kernelspec": {
   "display_name": "Python 3",
   "language": "python",
   "name": "python3"
  },
  "language_info": {
   "codemirror_mode": {
    "name": "ipython",
    "version": 3
   },
   "file_extension": ".py",
   "mimetype": "text/x-python",
   "name": "python",
   "nbconvert_exporter": "python",
   "pygments_lexer": "ipython3",
   "version": "3.7.10"
  }
 },
 "nbformat": 4,
 "nbformat_minor": 5
}
