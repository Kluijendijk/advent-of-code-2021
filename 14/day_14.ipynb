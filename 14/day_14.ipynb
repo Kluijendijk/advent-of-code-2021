{
 "cells": [
  {
   "cell_type": "code",
   "execution_count": 1,
   "id": "082d4cdc",
   "metadata": {
    "scrolled": true
   },
   "outputs": [],
   "source": [
    "with open('input.txt') as f:\n",
    "    template, _, *data = f.read().split('\\n')\n",
    "pairs = dict()\n",
    "for p in data:\n",
    "    fro, to = p.split(' -> ')\n",
    "    pairs[fro] = to"
   ]
  },
  {
   "cell_type": "code",
   "execution_count": 2,
   "id": "54263ffa",
   "metadata": {
    "scrolled": false
   },
   "outputs": [
    {
     "name": "stdout",
     "output_type": "stream",
     "text": [
      "3095\n"
     ]
    }
   ],
   "source": [
    "def pt1(temp, pairs):\n",
    "    newstr = temp[0]\n",
    "    for i in range(len(temp)-1):\n",
    "        if temp[i:i+2] in pairs.keys():\n",
    "            newstr += pairs[temp[i:i+2]]\n",
    "        newstr += temp[i+1]\n",
    "    return newstr\n",
    "\n",
    "n = 10\n",
    "pt1str = template\n",
    "for i in range(n):\n",
    "    pt1str = pt1(pt1str, pairs)\n",
    "\n",
    "pt1c = dict()    \n",
    "\n",
    "for i in set(pt1str):\n",
    "    pt1c[i] = pt1str.count(i)\n",
    "print(max(pt1c.values())-min(pt1c.values()))"
   ]
  },
  {
   "cell_type": "code",
   "execution_count": 3,
   "id": "80614a4f",
   "metadata": {
    "scrolled": false
   },
   "outputs": [
    {
     "name": "stdout",
     "output_type": "stream",
     "text": [
      "3152788426516\n"
     ]
    }
   ],
   "source": [
    "#was faster to code a better method than let old code run :p\n",
    "n = 40\n",
    "pair_count = dict()\n",
    "\n",
    "#make replacement dict\n",
    "fpairs = dict()\n",
    "for p in pairs.keys():\n",
    "    fpairs[p] = p[0] + pairs[p] + p[1]\n",
    "    pair_count[p] = 0\n",
    "\n",
    "for l in range(len(template)-1):\n",
    "    pair_count[template[l:l+2]] += 1\n",
    "\n",
    "for i in range(n):\n",
    "    new_c = dict.fromkeys(pair_count, 0)\n",
    "    \n",
    "    for pc in pair_count.keys():\n",
    "        c = pair_count[pc]\n",
    "        np1 = fpairs[pc][:-1]\n",
    "        np2 = fpairs[pc][1:]\n",
    "        new_c[np1] += c\n",
    "        new_c[np2] += c\n",
    "    pair_count = new_c\n",
    "\n",
    "letters = set(\"\".join(pair_count.keys()))\n",
    "counts = dict.fromkeys(letters, 0)\n",
    "\n",
    "for key in pair_count.keys():\n",
    "    l1 = key[0]\n",
    "    c = pair_count[key]\n",
    "    counts[l1] += c #only use 1st letter to avoid double counting\n",
    "counts[template[-1]] += 1 #make sure last letter is counted\n",
    "\n",
    "ma = max(counts.values())\n",
    "mi = min(counts.values())\n",
    "\n",
    "print(ma-mi) #?????"
   ]
  },
  {
   "cell_type": "code",
   "execution_count": null,
   "id": "97d598ed",
   "metadata": {},
   "outputs": [],
   "source": []
  },
  {
   "cell_type": "code",
   "execution_count": null,
   "id": "aaa32735",
   "metadata": {},
   "outputs": [],
   "source": []
  },
  {
   "cell_type": "code",
   "execution_count": null,
   "id": "46a74701",
   "metadata": {},
   "outputs": [],
   "source": []
  }
 ],
 "metadata": {
  "kernelspec": {
   "display_name": "Python 3",
   "language": "python",
   "name": "python3"
  },
  "language_info": {
   "codemirror_mode": {
    "name": "ipython",
    "version": 3
   },
   "file_extension": ".py",
   "mimetype": "text/x-python",
   "name": "python",
   "nbconvert_exporter": "python",
   "pygments_lexer": "ipython3",
   "version": "3.7.10"
  }
 },
 "nbformat": 4,
 "nbformat_minor": 5
}
