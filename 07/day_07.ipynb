{
 "cells": [
  {
   "cell_type": "code",
   "execution_count": 23,
   "id": "082d4cdc",
   "metadata": {},
   "outputs": [],
   "source": [
    "import numpy as np\n",
    "import scipy.stats\n",
    "with open('input.txt') as f:\n",
    "    data = np.array([int(x) for x in f.read().split(',')])\n"
   ]
  },
  {
   "cell_type": "code",
   "execution_count": 19,
   "id": "04f24583",
   "metadata": {
    "scrolled": false
   },
   "outputs": [
    {
     "name": "stdout",
     "output_type": "stream",
     "text": [
      "298.0\n",
      "356958.0\n"
     ]
    }
   ],
   "source": [
    "print(np.median(data))\n",
    "print(np.sum(np.abs(data-np.median(data))))"
   ]
  },
  {
   "cell_type": "code",
   "execution_count": 25,
   "id": "54263ffa",
   "metadata": {},
   "outputs": [
    {
     "name": "stdout",
     "output_type": "stream",
     "text": [
      "464\n",
      "105461913.0\n"
     ]
    }
   ],
   "source": [
    "avg = int(np.mean(data))# not sure why this works tbh, for the sample it should round up, while the input must floor\n",
    "print(avg)\n",
    "dist = np.abs(avg - data)\n",
    "print(np.sum(dist*(dist+1)/2.))"
   ]
  },
  {
   "cell_type": "code",
   "execution_count": null,
   "id": "80614a4f",
   "metadata": {},
   "outputs": [],
   "source": []
  }
 ],
 "metadata": {
  "kernelspec": {
   "display_name": "Python 3",
   "language": "python",
   "name": "python3"
  },
  "language_info": {
   "codemirror_mode": {
    "name": "ipython",
    "version": 3
   },
   "file_extension": ".py",
   "mimetype": "text/x-python",
   "name": "python",
   "nbconvert_exporter": "python",
   "pygments_lexer": "ipython3",
   "version": "3.7.10"
  }
 },
 "nbformat": 4,
 "nbformat_minor": 5
}
