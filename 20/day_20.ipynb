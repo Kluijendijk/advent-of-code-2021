{
 "cells": [
  {
   "cell_type": "code",
   "execution_count": 1,
   "id": "082d4cdc",
   "metadata": {
    "scrolled": true
   },
   "outputs": [],
   "source": [
    "import numpy as np\n",
    "from scipy.ndimage import convolve"
   ]
  },
  {
   "cell_type": "code",
   "execution_count": 2,
   "id": "1f4c6df6",
   "metadata": {
    "scrolled": false
   },
   "outputs": [
    {
     "data": {
      "text/plain": [
       "':)'"
      ]
     },
     "execution_count": 2,
     "metadata": {},
     "output_type": "execute_result"
    }
   ],
   "source": [
    "with open(\"input.txt\") as f:\n",
    "    iea, _, *data = f.read().split('\\n')\n",
    "    data = (np.array([list(x) for x in data]) == '#').astype(np.int32)\n",
    "iea = (np.array(list(iea)) == '#').astype(np.int32)\n",
    "':)'"
   ]
  },
  {
   "cell_type": "code",
   "execution_count": 3,
   "id": "97d598ed",
   "metadata": {
    "scrolled": false
   },
   "outputs": [
    {
     "name": "stdout",
     "output_type": "stream",
     "text": [
      "Step 2: 5097\n",
      "Step 50: 17987\n"
     ]
    }
   ],
   "source": [
    "def str_img(img):\n",
    "    out = ''\n",
    "    d = ['.','#']\n",
    "    for row in range(img.shape[0]):\n",
    "        for col in range(img.shape[1]):\n",
    "            out += d[img[row,col]]\n",
    "        out += '\\n'\n",
    "    return out\n",
    "\n",
    "def get_new_val(row, col, img):\n",
    "    conv = img[row-1:row+2, col-1:col+2]\n",
    "    bit = \"\".join(conv.astype(str).reshape(conv.size).tolist())\n",
    "    return iea[int(bit, base=2)]\n",
    "\n",
    "def step(img):\n",
    "    newimg = iea[convolve(img, k)]\n",
    "    return newimg\n",
    "k = 2**np.arange(9).reshape(3,3)\n",
    "img = np.pad(data, pad_width = 51)\n",
    "for i in range(0, 50):\n",
    "    img = step(img)\n",
    "    if i in [1, 49]:\n",
    "        print(f\"Step {i+1}: {np.sum(img)}\")"
   ]
  },
  {
   "cell_type": "code",
   "execution_count": null,
   "id": "aaa32735",
   "metadata": {
    "scrolled": false
   },
   "outputs": [],
   "source": []
  },
  {
   "cell_type": "code",
   "execution_count": null,
   "id": "ffadd686",
   "metadata": {},
   "outputs": [],
   "source": []
  },
  {
   "cell_type": "code",
   "execution_count": null,
   "id": "8477b0b4",
   "metadata": {},
   "outputs": [],
   "source": []
  },
  {
   "cell_type": "code",
   "execution_count": null,
   "id": "f7156bb5",
   "metadata": {},
   "outputs": [],
   "source": []
  }
 ],
 "metadata": {
  "kernelspec": {
   "display_name": "Python 3",
   "language": "python",
   "name": "python3"
  },
  "language_info": {
   "codemirror_mode": {
    "name": "ipython",
    "version": 3
   },
   "file_extension": ".py",
   "mimetype": "text/x-python",
   "name": "python",
   "nbconvert_exporter": "python",
   "pygments_lexer": "ipython3",
   "version": "3.7.10"
  }
 },
 "nbformat": 4,
 "nbformat_minor": 5
}
