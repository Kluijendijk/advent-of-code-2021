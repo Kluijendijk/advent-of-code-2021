{
 "cells": [
  {
   "cell_type": "code",
   "execution_count": 1,
   "id": "082d4cdc",
   "metadata": {
    "scrolled": true
   },
   "outputs": [],
   "source": [
    "import numpy as np\n",
    "import sympy as sp\n",
    "from itertools import permutations\n",
    "from scipy.spatial.transform import Rotation as R\n",
    "import scipy"
   ]
  },
  {
   "cell_type": "code",
   "execution_count": 2,
   "id": "54263ffa",
   "metadata": {
    "scrolled": false
   },
   "outputs": [],
   "source": [
    "class sensor:\n",
    "    def recover_homogenous_affine_transformation(p, p_prime):\n",
    "        '''\n",
    "        Source: https://stackoverflow.com/questions/27546081/\n",
    "        '''\n",
    "        # construct intermediate matrix\n",
    "        Q       = p[1:]       - p[0]\n",
    "        Q_prime = p_prime[1:] - p_prime[0]\n",
    "\n",
    "        # calculate rotation matrix\n",
    "        R = np.dot(np.linalg.inv(np.row_stack((Q, np.cross(*Q)))),\n",
    "                   np.row_stack((Q_prime, np.cross(*Q_prime))))\n",
    "\n",
    "        # calculate translation vector\n",
    "        t = p_prime[0] - np.dot(p[0], R)\n",
    "\n",
    "        # calculate affine transformation matrix\n",
    "        return np.column_stack((np.row_stack((R, t)),\n",
    "                                (0, 0, 0, 1)))\n",
    "    \n",
    "    def __init__(self, points):\n",
    "        self.trans_mat = None\n",
    "        self.points = points\n",
    "        self.true_coords = None\n",
    "        self.beacons = []\n",
    "        self.checked_dist = False\n",
    "        self.overlapping_sensors = []\n",
    "        for row in range(points.shape[0]):\n",
    "            self.beacons.append(beacon(points[row,:]))\n",
    "    \n",
    "    def find_beacon_neighbors(self):\n",
    "        if self.checked_dist:\n",
    "            return None\n",
    "        self.distances = set()\n",
    "        for b in self.beacons:\n",
    "            self.distances |= b.find_neighbors(self)\n",
    "        self.checked_dist = True\n",
    "    \n",
    "    def check_overlap(self, other):\n",
    "        '''if overlap is found, return T such that other.pairs @ t gives the perspective from self\n",
    "        example output:\n",
    "        matrix([[    0,     1,     0,     0],\n",
    "                [    1,     0,     0,     0],\n",
    "                [    0,     0,    -1,     0],\n",
    "                [  147,   155, -1150,     1]])\n",
    "        '''\n",
    "        max_overlap = 0\n",
    "        pairs = np.zeros((1,6))\n",
    "        for b in self.beacons:\n",
    "            for ob in other.beacons:\n",
    "                overlapping_dist = set(b.dist.values()) & set(ob.dist.values())\n",
    "                if len(overlapping_dist) >= 12:\n",
    "                    pairs = np.vstack((pairs, np.hstack((b.v.reshape(1,3), ob.v.reshape(1,3)))))\n",
    "                    max_overlap = np.max((max_overlap, len(overlapping_dist)))\n",
    "        if max_overlap < 12:\n",
    "            return False\n",
    "        pairs = pairs[1:,:]\n",
    "        a = pairs[:,:3]\n",
    "        a = np.hstack((a, np.ones((a.shape[0],1))))\n",
    "        b = pairs[:,3:]\n",
    "        b = np.hstack((b, np.ones((b.shape[0],1))))\n",
    "        trans_mat = sensor.recover_homogenous_affine_transformation(b[:3,:3], a[:3,:3]) #pog\n",
    "        trans_mat = np.round(trans_mat).astype(int)\n",
    "        return trans_mat\n",
    "        \n",
    "    def manhattan_distance(self, other):\n",
    "        return np.sum(np.abs(self.true_coords - other.true_coords))\n",
    "    def __str__(self):\n",
    "        return str(self.points)\n",
    "    \n",
    "class beacon:\n",
    "    def distance(v1, v2):\n",
    "        dist = np.abs(v1-v2)\n",
    "        return np.sum(np.square(dist)), np.min(dist), np.max(dist)\n",
    "    \n",
    "    def __init__(self, v):\n",
    "        self.v = v\n",
    "        self.dist = dict()\n",
    "        \n",
    "    def find_neighbors(self, sensor):\n",
    "        for b in sensor.beacons:\n",
    "            self.dist[b] = beacon.distance(self.v, b.v)\n",
    "        return set(self.dist.values())\n"
   ]
  },
  {
   "cell_type": "code",
   "execution_count": 7,
   "id": "1f4c6df6",
   "metadata": {
    "scrolled": false
   },
   "outputs": [
    {
     "name": "stdout",
     "output_type": "stream",
     "text": [
      ":)\n"
     ]
    }
   ],
   "source": [
    "with open(\"input.txt\") as f:\n",
    "    data = [np.matrix(\";\".join(x.split('\\n')[1:])) for x in f.read().split('\\n\\n')]\n",
    "sensors = [sensor(d) for d in data]\n",
    "[d.find_beacon_neighbors() for d in sensors]\n",
    "print(':)')"
   ]
  },
  {
   "cell_type": "code",
   "execution_count": 4,
   "id": "97d598ed",
   "metadata": {
    "scrolled": false
   },
   "outputs": [
    {
     "name": "stdout",
     "output_type": "stream",
     "text": [
      "(483, 3)\n"
     ]
    }
   ],
   "source": [
    "sen = sensors.copy() #needed for part 2, makes a new list with pointers to the original sensors\n",
    "#part 1\n",
    "main_sensor = sen.pop(0)\n",
    "main_sensor.true_coords = np.array([0, 0, 0])\n",
    "while sen:\n",
    "    nxt = sen.pop(0)\n",
    "    overlap = main_sensor.check_overlap(nxt)\n",
    "    if overlap is False:\n",
    "        sen.append(nxt)\n",
    "        continue\n",
    "    nxt.true_coords = overlap[3, :3].flatten()\n",
    "    homo_nxt = np.hstack((nxt.points, np.ones((nxt.points.shape[0],1))))\n",
    "    new_points = np.unique(np.vstack((homo_nxt@overlap[:,:3], main_sensor.points)),axis=0).astype(np.int32)\n",
    "    main_sensor = sensor(new_points)\n",
    "    main_sensor.find_beacon_neighbors()\n",
    "print(main_sensor.points.shape)"
   ]
  },
  {
   "cell_type": "code",
   "execution_count": 5,
   "id": "aaa32735",
   "metadata": {
    "scrolled": false
   },
   "outputs": [
    {
     "name": "stdout",
     "output_type": "stream",
     "text": [
      "14804\n"
     ]
    }
   ],
   "source": [
    "#part 2:\n",
    "max_d = -1\n",
    "for sen1 in sensors: \n",
    "    for sen2 in sensors:\n",
    "        max_d = max(max_d, sen1.manhattan_distance(sen2))\n",
    "print(max_d)"
   ]
  },
  {
   "cell_type": "code",
   "execution_count": null,
   "id": "ffadd686",
   "metadata": {},
   "outputs": [],
   "source": []
  }
 ],
 "metadata": {
  "kernelspec": {
   "display_name": "Python 3",
   "language": "python",
   "name": "python3"
  },
  "language_info": {
   "codemirror_mode": {
    "name": "ipython",
    "version": 3
   },
   "file_extension": ".py",
   "mimetype": "text/x-python",
   "name": "python",
   "nbconvert_exporter": "python",
   "pygments_lexer": "ipython3",
   "version": "3.7.10"
  }
 },
 "nbformat": 4,
 "nbformat_minor": 5
}
